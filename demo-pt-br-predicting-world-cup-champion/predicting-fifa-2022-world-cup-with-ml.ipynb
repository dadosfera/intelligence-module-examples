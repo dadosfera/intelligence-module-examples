{
 "cells": [
  {
   "cell_type": "markdown",
   "id": "ba42f85b",
   "metadata": {
    "papermill": {
     "duration": 0.025069,
     "end_time": "2022-11-19T16:08:38.723147",
     "exception": false,
     "start_time": "2022-11-19T16:08:38.698078",
     "status": "completed"
    },
    "tags": []
   },
   "source": [
    "# The Project\n",
    "\n",
    "The idea here is to simulate the FIFA 2022 World Cup games with machine learning, in order to predict the competition's winner. The project uses two datasets: [International football results from 1872 to 2022](https://www.kaggle.com/datasets/martj42/international-football-results-from-1872-to-2017) and [FIFA World Ranking 1992-2022](https://www.kaggle.com/datasets/cashncarry/fifaworldranking)\n",
    "\n",
    "I've used the same logic that was used in the [Soccer World Cup 2018 Winner\n",
    "](https://www.kaggle.com/code/agostontorok/soccer-world-cup-2018-winner) notebook, that models the problem as binary classification one. I used this to make more easy to analyze model's results, so the model predicts between win from home team and draw/win from away team. Then, to remove the advantage of away team, I predicted the results changing teams from away and home (because there is not home advantage in World Cup), and used as probabilities the mean of the two predictions. \n",
    "\n",
    "# Data Preparation\n",
    "\n",
    "Here, I'll prepare the data to apply feature engineering methods that will create the database in order to apply Machine Learning algorithms."
   ]
  },
  {
   "cell_type": "code",
   "execution_count": null,
   "id": "64648d9d",
   "metadata": {
    "execution": {
     "iopub.execute_input": "2022-11-19T16:08:38.774949Z",
     "iopub.status.busy": "2022-11-19T16:08:38.774267Z",
     "iopub.status.idle": "2022-11-19T16:08:38.935169Z",
     "shell.execute_reply": "2022-11-19T16:08:38.934028Z"
    },
    "papermill": {
     "duration": 0.189926,
     "end_time": "2022-11-19T16:08:38.938353",
     "exception": false,
     "start_time": "2022-11-19T16:08:38.748427",
     "status": "completed"
    },
    "tags": []
   },
   "outputs": [],
   "source": [
    "df =  pd.read_csv(\"../input/international-football-results-from-1872-to-2017/results.csv\")"
   ]
  },
  {
   "cell_type": "code",
   "execution_count": null,
   "id": "50e1da9a",
   "metadata": {
    "execution": {
     "iopub.execute_input": "2022-11-19T16:08:38.992702Z",
     "iopub.status.busy": "2022-11-19T16:08:38.992238Z",
     "iopub.status.idle": "2022-11-19T16:08:39.017618Z",
     "shell.execute_reply": "2022-11-19T16:08:39.016626Z"
    },
    "papermill": {
     "duration": 0.055452,
     "end_time": "2022-11-19T16:08:39.020243",
     "exception": false,
     "start_time": "2022-11-19T16:08:38.964791",
     "status": "completed"
    },
    "tags": []
   },
   "outputs": [],
   "source": [
    "df[\"date\"] = pd.to_datetime(df[\"date\"])"
   ]
  },
  {
   "cell_type": "code",
   "execution_count": null,
   "id": "3f934450",
   "metadata": {
    "execution": {
     "iopub.execute_input": "2022-11-19T16:08:39.072713Z",
     "iopub.status.busy": "2022-11-19T16:08:39.071983Z",
     "iopub.status.idle": "2022-11-19T16:08:39.094592Z",
     "shell.execute_reply": "2022-11-19T16:08:39.093335Z"
    },
    "papermill": {
     "duration": 0.051475,
     "end_time": "2022-11-19T16:08:39.097270",
     "exception": false,
     "start_time": "2022-11-19T16:08:39.045795",
     "status": "completed"
    },
    "tags": []
   },
   "outputs": [],
   "source": [
    "df.isna().sum()"
   ]
  },
  {
   "cell_type": "code",
   "execution_count": null,
   "id": "d45045ef",
   "metadata": {
    "execution": {
     "iopub.execute_input": "2022-11-19T16:08:39.148649Z",
     "iopub.status.busy": "2022-11-19T16:08:39.148226Z",
     "iopub.status.idle": "2022-11-19T16:08:39.180471Z",
     "shell.execute_reply": "2022-11-19T16:08:39.179393Z"
    },
    "papermill": {
     "duration": 0.061131,
     "end_time": "2022-11-19T16:08:39.183196",
     "exception": false,
     "start_time": "2022-11-19T16:08:39.122065",
     "status": "completed"
    },
    "tags": []
   },
   "outputs": [],
   "source": [
    "df.dropna(inplace=True)"
   ]
  },
  {
   "cell_type": "code",
   "execution_count": null,
   "id": "331f9a61",
   "metadata": {
    "execution": {
     "iopub.execute_input": "2022-11-19T16:08:39.236639Z",
     "iopub.status.busy": "2022-11-19T16:08:39.236196Z",
     "iopub.status.idle": "2022-11-19T16:08:39.245344Z",
     "shell.execute_reply": "2022-11-19T16:08:39.243937Z"
    },
    "papermill": {
     "duration": 0.039373,
     "end_time": "2022-11-19T16:08:39.248386",
     "exception": false,
     "start_time": "2022-11-19T16:08:39.209013",
     "status": "completed"
    },
    "tags": []
   },
   "outputs": [],
   "source": [
    "df.dtypes"
   ]
  },
  {
   "cell_type": "markdown",
   "id": "ea32b998",
   "metadata": {
    "papermill": {
     "duration": 0.025522,
     "end_time": "2022-11-19T16:08:39.300893",
     "exception": false,
     "start_time": "2022-11-19T16:08:39.275371",
     "status": "completed"
    },
    "tags": []
   },
   "source": [
    "The dataset used will be the FIFA Games between 2018, from after the 2018 World Cup to the last games before the 2022 World Cup. The idea is to analyze just the games played at the preparation and classification to WC."
   ]
  },
  {
   "cell_type": "code",
   "execution_count": null,
   "id": "af735d37",
   "metadata": {
    "execution": {
     "iopub.execute_input": "2022-11-19T16:08:39.351877Z",
     "iopub.status.busy": "2022-11-19T16:08:39.351356Z",
     "iopub.status.idle": "2022-11-19T16:08:39.388787Z",
     "shell.execute_reply": "2022-11-19T16:08:39.387311Z"
    },
    "papermill": {
     "duration": 0.065941,
     "end_time": "2022-11-19T16:08:39.391588",
     "exception": false,
     "start_time": "2022-11-19T16:08:39.325647",
     "status": "completed"
    },
    "tags": []
   },
   "outputs": [],
   "source": [
    "df.sort_values(\"date\").tail()"
   ]
  },
  {
   "cell_type": "code",
   "execution_count": null,
   "id": "2a59c1bf",
   "metadata": {
    "execution": {
     "iopub.execute_input": "2022-11-19T16:08:39.447103Z",
     "iopub.status.busy": "2022-11-19T16:08:39.446685Z",
     "iopub.status.idle": "2022-11-19T16:08:39.456152Z",
     "shell.execute_reply": "2022-11-19T16:08:39.454494Z"
    },
    "papermill": {
     "duration": 0.040911,
     "end_time": "2022-11-19T16:08:39.459132",
     "exception": false,
     "start_time": "2022-11-19T16:08:39.418221",
     "status": "completed"
    },
    "tags": []
   },
   "outputs": [],
   "source": [
    "df = df[(df[\"date\"] >= \"2018-8-1\")].reset_index(drop=True)"
   ]
  },
  {
   "cell_type": "code",
   "execution_count": null,
   "id": "58949c58",
   "metadata": {
    "execution": {
     "iopub.execute_input": "2022-11-19T16:08:39.512859Z",
     "iopub.status.busy": "2022-11-19T16:08:39.512027Z",
     "iopub.status.idle": "2022-11-19T16:08:39.532198Z",
     "shell.execute_reply": "2022-11-19T16:08:39.530772Z"
    },
    "papermill": {
     "duration": 0.050823,
     "end_time": "2022-11-19T16:08:39.535358",
     "exception": false,
     "start_time": "2022-11-19T16:08:39.484535",
     "status": "completed"
    },
    "tags": []
   },
   "outputs": [],
   "source": [
    "df.sort_values(\"date\").tail()"
   ]
  },
  {
   "cell_type": "code",
   "execution_count": null,
   "id": "73affc08",
   "metadata": {
    "execution": {
     "iopub.execute_input": "2022-11-19T16:08:39.597644Z",
     "iopub.status.busy": "2022-11-19T16:08:39.597028Z",
     "iopub.status.idle": "2022-11-19T16:08:39.613054Z",
     "shell.execute_reply": "2022-11-19T16:08:39.611866Z"
    },
    "papermill": {
     "duration": 0.054156,
     "end_time": "2022-11-19T16:08:39.616328",
     "exception": false,
     "start_time": "2022-11-19T16:08:39.562172",
     "status": "completed"
    },
    "tags": []
   },
   "outputs": [],
   "source": [
    "df.home_team.value_counts()"
   ]
  },
  {
   "cell_type": "code",
   "execution_count": null,
   "id": "09abcd97",
   "metadata": {
    "execution": {
     "iopub.execute_input": "2022-11-19T16:08:39.692148Z",
     "iopub.status.busy": "2022-11-19T16:08:39.691519Z",
     "iopub.status.idle": "2022-11-19T16:08:39.819454Z",
     "shell.execute_reply": "2022-11-19T16:08:39.818192Z"
    },
    "papermill": {
     "duration": 0.166681,
     "end_time": "2022-11-19T16:08:39.822632",
     "exception": false,
     "start_time": "2022-11-19T16:08:39.655951",
     "status": "completed"
    },
    "tags": []
   },
   "outputs": [],
   "source": [
    "rank = pd.read_csv(\"../input/fifaworldranking/fifa_ranking-2022-10-06.csv\")"
   ]
  },
  {
   "cell_type": "code",
   "execution_count": null,
   "id": "3f04ac88",
   "metadata": {
    "execution": {
     "iopub.execute_input": "2022-11-19T16:08:39.878854Z",
     "iopub.status.busy": "2022-11-19T16:08:39.878031Z",
     "iopub.status.idle": "2022-11-19T16:08:39.901780Z",
     "shell.execute_reply": "2022-11-19T16:08:39.900419Z"
    },
    "papermill": {
     "duration": 0.055025,
     "end_time": "2022-11-19T16:08:39.904734",
     "exception": false,
     "start_time": "2022-11-19T16:08:39.849709",
     "status": "completed"
    },
    "tags": []
   },
   "outputs": [],
   "source": [
    "rank[\"rank_date\"] = pd.to_datetime(rank[\"rank_date\"])\n",
    "rank = rank[(rank[\"rank_date\"] >= \"2018-8-1\")].reset_index(drop=True)\n"
   ]
  },
  {
   "cell_type": "markdown",
   "id": "251207c4",
   "metadata": {
    "papermill": {
     "duration": 0.025234,
     "end_time": "2022-11-19T16:08:39.958008",
     "exception": false,
     "start_time": "2022-11-19T16:08:39.932774",
     "status": "completed"
    },
    "tags": []
   },
   "source": [
    "Some teams in the World Cup have different names in the ranking's dataset. So, it's needed to adjust. "
   ]
  },
  {
   "cell_type": "code",
   "execution_count": null,
   "id": "b145de4e",
   "metadata": {
    "execution": {
     "iopub.execute_input": "2022-11-19T16:08:40.010331Z",
     "iopub.status.busy": "2022-11-19T16:08:40.009900Z",
     "iopub.status.idle": "2022-11-19T16:08:40.032200Z",
     "shell.execute_reply": "2022-11-19T16:08:40.031065Z"
    },
    "papermill": {
     "duration": 0.052204,
     "end_time": "2022-11-19T16:08:40.035142",
     "exception": false,
     "start_time": "2022-11-19T16:08:39.982938",
     "status": "completed"
    },
    "tags": []
   },
   "outputs": [],
   "source": [
    "rank[\"country_full\"] = rank[\"country_full\"].str.replace(\"IR Iran\", \"Iran\").str.replace(\"Korea Republic\", \"South Korea\").str.replace(\"USA\", \"United States\")"
   ]
  },
  {
   "cell_type": "markdown",
   "id": "ef459895",
   "metadata": {
    "papermill": {
     "duration": 0.027621,
     "end_time": "2022-11-19T16:08:40.089332",
     "exception": false,
     "start_time": "2022-11-19T16:08:40.061711",
     "status": "completed"
    },
    "tags": []
   },
   "source": [
    "The merge is made in order to get a dataset FIFA games and its rankings."
   ]
  },
  {
   "cell_type": "code",
   "execution_count": null,
   "id": "e05c77c8",
   "metadata": {
    "execution": {
     "iopub.execute_input": "2022-11-19T16:08:40.144703Z",
     "iopub.status.busy": "2022-11-19T16:08:40.144246Z",
     "iopub.status.idle": "2022-11-19T16:08:41.103461Z",
     "shell.execute_reply": "2022-11-19T16:08:41.102029Z"
    },
    "papermill": {
     "duration": 0.989476,
     "end_time": "2022-11-19T16:08:41.106317",
     "exception": false,
     "start_time": "2022-11-19T16:08:40.116841",
     "status": "completed"
    },
    "tags": []
   },
   "outputs": [],
   "source": [
    "rank = rank.set_index(['rank_date']).groupby(['country_full'], group_keys=False).resample('D').first().fillna(method='ffill').reset_index()"
   ]
  },
  {
   "cell_type": "code",
   "execution_count": null,
   "id": "d2a642f1",
   "metadata": {
    "execution": {
     "iopub.execute_input": "2022-11-19T16:08:41.159889Z",
     "iopub.status.busy": "2022-11-19T16:08:41.159485Z",
     "iopub.status.idle": "2022-11-19T16:08:41.307736Z",
     "shell.execute_reply": "2022-11-19T16:08:41.306507Z"
    },
    "papermill": {
     "duration": 0.178878,
     "end_time": "2022-11-19T16:08:41.311475",
     "exception": false,
     "start_time": "2022-11-19T16:08:41.132597",
     "status": "completed"
    },
    "tags": []
   },
   "outputs": [],
   "source": [
    "df_wc_ranked = df.merge(rank[[\"country_full\", \"total_points\", \"previous_points\", \"rank\", \"rank_change\", \"rank_date\"]], left_on=[\"date\", \"home_team\"], right_on=[\"rank_date\", \"country_full\"]).drop([\"rank_date\", \"country_full\"], axis=1)\n",
    "\n",
    "df_wc_ranked = df_wc_ranked.merge(rank[[\"country_full\", \"total_points\", \"previous_points\", \"rank\", \"rank_change\", \"rank_date\"]], left_on=[\"date\", \"away_team\"], right_on=[\"rank_date\", \"country_full\"], suffixes=(\"_home\", \"_away\")).drop([\"rank_date\", \"country_full\"], axis=1)"
   ]
  },
  {
   "cell_type": "code",
   "execution_count": null,
   "id": "a90c106f",
   "metadata": {
    "execution": {
     "iopub.execute_input": "2022-11-19T16:08:41.365570Z",
     "iopub.status.busy": "2022-11-19T16:08:41.364681Z",
     "iopub.status.idle": "2022-11-19T16:08:41.397600Z",
     "shell.execute_reply": "2022-11-19T16:08:41.396193Z"
    },
    "papermill": {
     "duration": 0.062774,
     "end_time": "2022-11-19T16:08:41.400197",
     "exception": false,
     "start_time": "2022-11-19T16:08:41.337423",
     "status": "completed"
    },
    "tags": []
   },
   "outputs": [],
   "source": [
    "df_wc_ranked[(df_wc_ranked.home_team == \"Brazil\") | (df_wc_ranked.away_team == \"Brazil\")].tail(10)"
   ]
  },
  {
   "cell_type": "markdown",
   "id": "92a87d85",
   "metadata": {
    "papermill": {
     "duration": 0.026553,
     "end_time": "2022-11-19T16:08:41.453066",
     "exception": false,
     "start_time": "2022-11-19T16:08:41.426513",
     "status": "completed"
    },
    "tags": []
   },
   "source": [
    "Now, we have the data ready to create features based on the games' results and FIFA rankings.\n",
    "\n",
    "# Features Engineering\n",
    "\n",
    "The idea here is to create possible features that have impact on predicting football games. By intuition, we say that features that impact could be:\n",
    "\n",
    "- Past game points made\n",
    "- Past goals scored and suffered\n",
    "- The importance of game (friendly or not)\n",
    "- Rank of the teams \n",
    "- Rank increasement of the teams\n",
    "- Goals made and suffered by ranking faced\n",
    "\n",
    "So, the first thing to do is create the feature that says which team won and how much points they made at game. "
   ]
  },
  {
   "cell_type": "code",
   "execution_count": null,
   "id": "26640701",
   "metadata": {
    "execution": {
     "iopub.execute_input": "2022-11-19T16:08:41.506152Z",
     "iopub.status.busy": "2022-11-19T16:08:41.505716Z",
     "iopub.status.idle": "2022-11-19T16:08:41.511211Z",
     "shell.execute_reply": "2022-11-19T16:08:41.509806Z"
    },
    "papermill": {
     "duration": 0.034551,
     "end_time": "2022-11-19T16:08:41.513882",
     "exception": false,
     "start_time": "2022-11-19T16:08:41.479331",
     "status": "completed"
    },
    "tags": []
   },
   "outputs": [],
   "source": [
    "df = df_wc_ranked"
   ]
  },
  {
   "cell_type": "code",
   "execution_count": null,
   "id": "5dd84a17",
   "metadata": {
    "execution": {
     "iopub.execute_input": "2022-11-19T16:08:41.566057Z",
     "iopub.status.busy": "2022-11-19T16:08:41.565584Z",
     "iopub.status.idle": "2022-11-19T16:08:42.322427Z",
     "shell.execute_reply": "2022-11-19T16:08:42.321312Z"
    },
    "papermill": {
     "duration": 0.786378,
     "end_time": "2022-11-19T16:08:42.325585",
     "exception": false,
     "start_time": "2022-11-19T16:08:41.539207",
     "status": "completed"
    },
    "tags": []
   },
   "outputs": [],
   "source": [
    "def result_finder(home, away):\n",
    "    if home > away:\n",
    "        return pd.Series([0, 3, 0])\n",
    "    if home < away:\n",
    "        return pd.Series([1, 0, 3])\n",
    "    else:\n",
    "        return pd.Series([2, 1, 1])\n",
    "\n",
    "results = df.apply(lambda x: result_finder(x[\"home_score\"], x[\"away_score\"]), axis=1)"
   ]
  },
  {
   "cell_type": "code",
   "execution_count": null,
   "id": "ca76c93a",
   "metadata": {
    "execution": {
     "iopub.execute_input": "2022-11-19T16:08:42.379869Z",
     "iopub.status.busy": "2022-11-19T16:08:42.379044Z",
     "iopub.status.idle": "2022-11-19T16:08:42.386144Z",
     "shell.execute_reply": "2022-11-19T16:08:42.384688Z"
    },
    "papermill": {
     "duration": 0.03794,
     "end_time": "2022-11-19T16:08:42.389320",
     "exception": false,
     "start_time": "2022-11-19T16:08:42.351380",
     "status": "completed"
    },
    "tags": []
   },
   "outputs": [],
   "source": [
    "df[[\"result\", \"home_team_points\", \"away_team_points\"]] = results"
   ]
  },
  {
   "cell_type": "markdown",
   "id": "44250bd6",
   "metadata": {
    "papermill": {
     "duration": 0.02572,
     "end_time": "2022-11-19T16:08:42.440299",
     "exception": false,
     "start_time": "2022-11-19T16:08:42.414579",
     "status": "completed"
    },
    "tags": []
   },
   "source": [
    "The game points are 3 for win, 1 for draw and 0 for lose and are different than the FIFA rank points that are already in the database. Also, it's supposed that FIFA Rank points and FIFA Ranking of the same team are negative correlated, and we should use only one of them to create new features. This supposition is checked below:"
   ]
  },
  {
   "cell_type": "code",
   "execution_count": null,
   "id": "93068461",
   "metadata": {
    "execution": {
     "iopub.execute_input": "2022-11-19T16:08:42.493227Z",
     "iopub.status.busy": "2022-11-19T16:08:42.492758Z",
     "iopub.status.idle": "2022-11-19T16:08:44.159519Z",
     "shell.execute_reply": "2022-11-19T16:08:44.158138Z"
    },
    "papermill": {
     "duration": 1.696499,
     "end_time": "2022-11-19T16:08:44.162562",
     "exception": false,
     "start_time": "2022-11-19T16:08:42.466063",
     "status": "completed"
    },
    "tags": []
   },
   "outputs": [],
   "source": [
    "import seaborn as sns\n",
    "import matplotlib.pyplot as plt\n",
    "\n",
    "plt.figure(figsize=(15, 10))\n",
    "sns.heatmap(df[[\"total_points_home\", \"rank_home\", \"total_points_away\", \"rank_away\"]].corr())\n",
    "plt.show()"
   ]
  },
  {
   "cell_type": "markdown",
   "id": "cec8bb32",
   "metadata": {
    "papermill": {
     "duration": 0.0262,
     "end_time": "2022-11-19T16:08:44.216095",
     "exception": false,
     "start_time": "2022-11-19T16:08:44.189895",
     "status": "completed"
    },
    "tags": []
   },
   "source": [
    "Now, we create columns that will help in the creation of the features: ranking difference, points won at the game vs. team faced rank, and goals difference in the game. All features that are not differences should be created for the two teams (away and home)."
   ]
  },
  {
   "cell_type": "code",
   "execution_count": null,
   "id": "b103fa3d",
   "metadata": {
    "execution": {
     "iopub.execute_input": "2022-11-19T16:08:44.270894Z",
     "iopub.status.busy": "2022-11-19T16:08:44.270454Z",
     "iopub.status.idle": "2022-11-19T16:08:44.279915Z",
     "shell.execute_reply": "2022-11-19T16:08:44.278984Z"
    },
    "papermill": {
     "duration": 0.040425,
     "end_time": "2022-11-19T16:08:44.282291",
     "exception": false,
     "start_time": "2022-11-19T16:08:44.241866",
     "status": "completed"
    },
    "tags": []
   },
   "outputs": [],
   "source": [
    "df[\"rank_dif\"] = df[\"rank_home\"] - df[\"rank_away\"]\n",
    "df[\"sg\"] = df[\"home_score\"] - df[\"away_score\"]\n",
    "df[\"points_home_by_rank\"] = df[\"home_team_points\"]/df[\"rank_away\"]\n",
    "df[\"points_away_by_rank\"] = df[\"away_team_points\"]/df[\"rank_home\"]"
   ]
  },
  {
   "cell_type": "markdown",
   "id": "5969e791",
   "metadata": {
    "papermill": {
     "duration": 0.02618,
     "end_time": "2022-11-19T16:08:44.334297",
     "exception": false,
     "start_time": "2022-11-19T16:08:44.308117",
     "status": "completed"
    },
    "tags": []
   },
   "source": [
    "In order to create the features, I'll separate the dataset in home team's and away team's dataset, unify them and calculate the past game values. After that, I'll separate again and merge them, retrieving the original dataset. This proccess optimizes the creation of the features."
   ]
  },
  {
   "cell_type": "code",
   "execution_count": null,
   "id": "fd5cbe9d",
   "metadata": {
    "execution": {
     "iopub.execute_input": "2022-11-19T16:08:44.390629Z",
     "iopub.status.busy": "2022-11-19T16:08:44.389781Z",
     "iopub.status.idle": "2022-11-19T16:08:44.398697Z",
     "shell.execute_reply": "2022-11-19T16:08:44.397513Z"
    },
    "papermill": {
     "duration": 0.040551,
     "end_time": "2022-11-19T16:08:44.401531",
     "exception": false,
     "start_time": "2022-11-19T16:08:44.360980",
     "status": "completed"
    },
    "tags": []
   },
   "outputs": [],
   "source": [
    "home_team = df[[\"date\", \"home_team\", \"home_score\", \"away_score\", \"rank_home\", \"rank_away\",\"rank_change_home\", \"total_points_home\", \"result\", \"rank_dif\", \"points_home_by_rank\", \"home_team_points\"]]\n",
    "\n",
    "away_team = df[[\"date\", \"away_team\", \"away_score\", \"home_score\", \"rank_away\", \"rank_home\",\"rank_change_away\", \"total_points_away\", \"result\", \"rank_dif\", \"points_away_by_rank\", \"away_team_points\"]]"
   ]
  },
  {
   "cell_type": "code",
   "execution_count": null,
   "id": "5ba1948b",
   "metadata": {
    "execution": {
     "iopub.execute_input": "2022-11-19T16:08:44.457726Z",
     "iopub.status.busy": "2022-11-19T16:08:44.457244Z",
     "iopub.status.idle": "2022-11-19T16:08:44.465000Z",
     "shell.execute_reply": "2022-11-19T16:08:44.463719Z"
    },
    "papermill": {
     "duration": 0.039081,
     "end_time": "2022-11-19T16:08:44.467599",
     "exception": false,
     "start_time": "2022-11-19T16:08:44.428518",
     "status": "completed"
    },
    "tags": []
   },
   "outputs": [],
   "source": [
    "home_team.columns = [h.replace(\"home_\", \"\").replace(\"_home\", \"\").replace(\"away_\", \"suf_\").replace(\"_away\", \"_suf\") for h in home_team.columns]\n",
    "\n",
    "away_team.columns = [a.replace(\"away_\", \"\").replace(\"_away\", \"\").replace(\"home_\", \"suf_\").replace(\"_home\", \"_suf\") for a in away_team.columns]"
   ]
  },
  {
   "cell_type": "code",
   "execution_count": null,
   "id": "2b91ea00",
   "metadata": {
    "execution": {
     "iopub.execute_input": "2022-11-19T16:08:44.523995Z",
     "iopub.status.busy": "2022-11-19T16:08:44.522970Z",
     "iopub.status.idle": "2022-11-19T16:08:44.531205Z",
     "shell.execute_reply": "2022-11-19T16:08:44.530180Z"
    },
    "papermill": {
     "duration": 0.039784,
     "end_time": "2022-11-19T16:08:44.533837",
     "exception": false,
     "start_time": "2022-11-19T16:08:44.494053",
     "status": "completed"
    },
    "tags": []
   },
   "outputs": [],
   "source": [
    "team_stats = home_team.append(away_team)#.sort_values(\"date\")"
   ]
  },
  {
   "cell_type": "code",
   "execution_count": null,
   "id": "5091152c",
   "metadata": {
    "execution": {
     "iopub.execute_input": "2022-11-19T16:08:44.588086Z",
     "iopub.status.busy": "2022-11-19T16:08:44.587607Z",
     "iopub.status.idle": "2022-11-19T16:08:44.594164Z",
     "shell.execute_reply": "2022-11-19T16:08:44.593092Z"
    },
    "papermill": {
     "duration": 0.036898,
     "end_time": "2022-11-19T16:08:44.597002",
     "exception": false,
     "start_time": "2022-11-19T16:08:44.560104",
     "status": "completed"
    },
    "tags": []
   },
   "outputs": [],
   "source": [
    "#this column will be used to calculate features for simulation\n",
    "team_stats_raw = team_stats.copy()"
   ]
  },
  {
   "cell_type": "markdown",
   "id": "e5cbfd87",
   "metadata": {
    "papermill": {
     "duration": 0.025326,
     "end_time": "2022-11-19T16:08:44.649126",
     "exception": false,
     "start_time": "2022-11-19T16:08:44.623800",
     "status": "completed"
    },
    "tags": []
   },
   "source": [
    "Now, we have a database ready to create predictive features. They will be:\n",
    "\n",
    "- Mean goals of the team in World Cup Cycle.\n",
    "- Mean goals of the team in last 5 games.\n",
    "- Mean goals suffered of the team in World Cup Cycle.\n",
    "- Mean goals suffered of the team in last 5 games.\n",
    "- Mean FIFA Rank that team faced in World Cup Cycle.\n",
    "- Mean FIFA Rank that team faced in last 5 games.\n",
    "- FIFA Points won at the cycle.\n",
    "- FIFA Points won in last 5 games.\n",
    "- Mean game points at the Cycle.\n",
    "- Mean game points at last 5 games.\n",
    "- Mean game points by rank faced at the Cycle.\n",
    "- Mean game points by rank faced at last 5 games."
   ]
  },
  {
   "cell_type": "code",
   "execution_count": null,
   "id": "185b250d",
   "metadata": {
    "execution": {
     "iopub.execute_input": "2022-11-19T16:08:44.702978Z",
     "iopub.status.busy": "2022-11-19T16:08:44.701719Z",
     "iopub.status.idle": "2022-11-19T16:09:09.332503Z",
     "shell.execute_reply": "2022-11-19T16:09:09.331275Z"
    },
    "papermill": {
     "duration": 24.660389,
     "end_time": "2022-11-19T16:09:09.335261",
     "exception": false,
     "start_time": "2022-11-19T16:08:44.674872",
     "status": "completed"
    },
    "tags": []
   },
   "outputs": [],
   "source": [
    "stats_val = []\n",
    "\n",
    "for index, row in team_stats.iterrows():\n",
    "    team = row[\"team\"]\n",
    "    date = row[\"date\"]\n",
    "    past_games = team_stats.loc[(team_stats[\"team\"] == team) & (team_stats[\"date\"] < date)].sort_values(by=['date'], ascending=False)\n",
    "    last5 = past_games.head(5)\n",
    "    \n",
    "    goals = past_games[\"score\"].mean()\n",
    "    goals_l5 = last5[\"score\"].mean()\n",
    "    \n",
    "    goals_suf = past_games[\"suf_score\"].mean()\n",
    "    goals_suf_l5 = last5[\"suf_score\"].mean()\n",
    "    \n",
    "    rank = past_games[\"rank_suf\"].mean()\n",
    "    rank_l5 = last5[\"rank_suf\"].mean()\n",
    "    \n",
    "    if len(last5) > 0:\n",
    "        points = past_games[\"total_points\"].values[0] - past_games[\"total_points\"].values[-1]#qtd de pontos ganhos\n",
    "        points_l5 = last5[\"total_points\"].values[0] - last5[\"total_points\"].values[-1] \n",
    "    else:\n",
    "        points = 0\n",
    "        points_l5 = 0\n",
    "        \n",
    "    gp = past_games[\"team_points\"].mean()\n",
    "    gp_l5 = last5[\"team_points\"].mean()\n",
    "    \n",
    "    gp_rank = past_games[\"points_by_rank\"].mean()\n",
    "    gp_rank_l5 = last5[\"points_by_rank\"].mean()\n",
    "    \n",
    "    stats_val.append([goals, goals_l5, goals_suf, goals_suf_l5, rank, rank_l5, points, points_l5, gp, gp_l5, gp_rank, gp_rank_l5])"
   ]
  },
  {
   "cell_type": "code",
   "execution_count": null,
   "id": "bdce99e0",
   "metadata": {
    "execution": {
     "iopub.execute_input": "2022-11-19T16:09:09.388612Z",
     "iopub.status.busy": "2022-11-19T16:09:09.388023Z",
     "iopub.status.idle": "2022-11-19T16:09:09.411590Z",
     "shell.execute_reply": "2022-11-19T16:09:09.410374Z"
    },
    "papermill": {
     "duration": 0.053342,
     "end_time": "2022-11-19T16:09:09.414221",
     "exception": false,
     "start_time": "2022-11-19T16:09:09.360879",
     "status": "completed"
    },
    "tags": []
   },
   "outputs": [],
   "source": [
    "stats_cols = [\"goals_mean\", \"goals_mean_l5\", \"goals_suf_mean\", \"goals_suf_mean_l5\", \"rank_mean\", \"rank_mean_l5\", \"points_mean\", \"points_mean_l5\", \"game_points_mean\", \"game_points_mean_l5\", \"game_points_rank_mean\", \"game_points_rank_mean_l5\"]\n",
    "\n",
    "stats_df = pd.DataFrame(stats_val, columns=stats_cols)\n",
    "\n",
    "full_df = pd.concat([team_stats.reset_index(drop=True), stats_df], axis=1, ignore_index=False)"
   ]
  },
  {
   "cell_type": "code",
   "execution_count": null,
   "id": "5ce92893",
   "metadata": {
    "execution": {
     "iopub.execute_input": "2022-11-19T16:09:09.468219Z",
     "iopub.status.busy": "2022-11-19T16:09:09.467700Z",
     "iopub.status.idle": "2022-11-19T16:09:09.474339Z",
     "shell.execute_reply": "2022-11-19T16:09:09.473012Z"
    },
    "papermill": {
     "duration": 0.036773,
     "end_time": "2022-11-19T16:09:09.476563",
     "exception": false,
     "start_time": "2022-11-19T16:09:09.439790",
     "status": "completed"
    },
    "tags": []
   },
   "outputs": [],
   "source": [
    "home_team_stats = full_df.iloc[:int(full_df.shape[0]/2),:]\n",
    "away_team_stats = full_df.iloc[int(full_df.shape[0]/2):,:]"
   ]
  },
  {
   "cell_type": "markdown",
   "id": "aca587bf",
   "metadata": {
    "papermill": {
     "duration": 0.026958,
     "end_time": "2022-11-19T16:09:09.529805",
     "exception": false,
     "start_time": "2022-11-19T16:09:09.502847",
     "status": "completed"
    },
    "tags": []
   },
   "source": [
    "The new columns:"
   ]
  },
  {
   "cell_type": "code",
   "execution_count": null,
   "id": "96960c95",
   "metadata": {
    "execution": {
     "iopub.execute_input": "2022-11-19T16:09:09.585610Z",
     "iopub.status.busy": "2022-11-19T16:09:09.584771Z",
     "iopub.status.idle": "2022-11-19T16:09:09.592717Z",
     "shell.execute_reply": "2022-11-19T16:09:09.591815Z"
    },
    "papermill": {
     "duration": 0.038908,
     "end_time": "2022-11-19T16:09:09.594884",
     "exception": false,
     "start_time": "2022-11-19T16:09:09.555976",
     "status": "completed"
    },
    "tags": []
   },
   "outputs": [],
   "source": [
    "home_team_stats.columns[-12:]"
   ]
  },
  {
   "cell_type": "code",
   "execution_count": null,
   "id": "51f5a272",
   "metadata": {
    "execution": {
     "iopub.execute_input": "2022-11-19T16:09:09.647667Z",
     "iopub.status.busy": "2022-11-19T16:09:09.647230Z",
     "iopub.status.idle": "2022-11-19T16:09:09.655541Z",
     "shell.execute_reply": "2022-11-19T16:09:09.654516Z"
    },
    "papermill": {
     "duration": 0.037643,
     "end_time": "2022-11-19T16:09:09.658004",
     "exception": false,
     "start_time": "2022-11-19T16:09:09.620361",
     "status": "completed"
    },
    "tags": []
   },
   "outputs": [],
   "source": [
    "home_team_stats = home_team_stats[home_team_stats.columns[-12:]]\n",
    "away_team_stats = away_team_stats[away_team_stats.columns[-12:]]"
   ]
  },
  {
   "cell_type": "code",
   "execution_count": null,
   "id": "f1becd1e",
   "metadata": {
    "execution": {
     "iopub.execute_input": "2022-11-19T16:09:09.712575Z",
     "iopub.status.busy": "2022-11-19T16:09:09.711396Z",
     "iopub.status.idle": "2022-11-19T16:09:09.717702Z",
     "shell.execute_reply": "2022-11-19T16:09:09.716617Z"
    },
    "papermill": {
     "duration": 0.036418,
     "end_time": "2022-11-19T16:09:09.720182",
     "exception": false,
     "start_time": "2022-11-19T16:09:09.683764",
     "status": "completed"
    },
    "tags": []
   },
   "outputs": [],
   "source": [
    "home_team_stats.columns = ['home_'+str(col) for col in home_team_stats.columns]\n",
    "away_team_stats.columns = ['away_'+str(col) for col in away_team_stats.columns]"
   ]
  },
  {
   "cell_type": "markdown",
   "id": "f9b3dee5",
   "metadata": {
    "papermill": {
     "duration": 0.02734,
     "end_time": "2022-11-19T16:09:09.774434",
     "exception": false,
     "start_time": "2022-11-19T16:09:09.747094",
     "status": "completed"
    },
    "tags": []
   },
   "source": [
    "In order to unify the database, is needed to add home_ and away_ suffix for each column. After that, the data is ready to be merged."
   ]
  },
  {
   "cell_type": "code",
   "execution_count": null,
   "id": "590b7ea8",
   "metadata": {
    "execution": {
     "iopub.execute_input": "2022-11-19T16:09:09.828888Z",
     "iopub.status.busy": "2022-11-19T16:09:09.827605Z",
     "iopub.status.idle": "2022-11-19T16:09:09.834772Z",
     "shell.execute_reply": "2022-11-19T16:09:09.833539Z"
    },
    "papermill": {
     "duration": 0.036706,
     "end_time": "2022-11-19T16:09:09.837345",
     "exception": false,
     "start_time": "2022-11-19T16:09:09.800639",
     "status": "completed"
    },
    "tags": []
   },
   "outputs": [],
   "source": [
    "match_stats = pd.concat([home_team_stats, away_team_stats.reset_index(drop=True)], axis=1, ignore_index=False)"
   ]
  },
  {
   "cell_type": "code",
   "execution_count": null,
   "id": "bf246a3c",
   "metadata": {
    "execution": {
     "iopub.execute_input": "2022-11-19T16:09:09.892781Z",
     "iopub.status.busy": "2022-11-19T16:09:09.891752Z",
     "iopub.status.idle": "2022-11-19T16:09:09.900738Z",
     "shell.execute_reply": "2022-11-19T16:09:09.899684Z"
    },
    "papermill": {
     "duration": 0.039489,
     "end_time": "2022-11-19T16:09:09.903370",
     "exception": false,
     "start_time": "2022-11-19T16:09:09.863881",
     "status": "completed"
    },
    "tags": []
   },
   "outputs": [],
   "source": [
    "full_df = pd.concat([df, match_stats.reset_index(drop=True)], axis=1, ignore_index=False)"
   ]
  },
  {
   "cell_type": "code",
   "execution_count": null,
   "id": "ca082ec9",
   "metadata": {
    "execution": {
     "iopub.execute_input": "2022-11-19T16:09:09.958739Z",
     "iopub.status.busy": "2022-11-19T16:09:09.957604Z",
     "iopub.status.idle": "2022-11-19T16:09:09.964601Z",
     "shell.execute_reply": "2022-11-19T16:09:09.963653Z"
    },
    "papermill": {
     "duration": 0.037381,
     "end_time": "2022-11-19T16:09:09.966967",
     "exception": false,
     "start_time": "2022-11-19T16:09:09.929586",
     "status": "completed"
    },
    "tags": []
   },
   "outputs": [],
   "source": [
    "full_df.columns"
   ]
  },
  {
   "cell_type": "markdown",
   "id": "9a9abce2",
   "metadata": {
    "papermill": {
     "duration": 0.025753,
     "end_time": "2022-11-19T16:09:10.019446",
     "exception": false,
     "start_time": "2022-11-19T16:09:09.993693",
     "status": "completed"
    },
    "tags": []
   },
   "source": [
    "Now, to quantify game importance, is created a column that finds competition of the game."
   ]
  },
  {
   "cell_type": "code",
   "execution_count": null,
   "id": "0d3ec9aa",
   "metadata": {
    "execution": {
     "iopub.execute_input": "2022-11-19T16:09:10.074264Z",
     "iopub.status.busy": "2022-11-19T16:09:10.073499Z",
     "iopub.status.idle": "2022-11-19T16:09:10.082129Z",
     "shell.execute_reply": "2022-11-19T16:09:10.080795Z"
    },
    "papermill": {
     "duration": 0.039257,
     "end_time": "2022-11-19T16:09:10.084859",
     "exception": false,
     "start_time": "2022-11-19T16:09:10.045602",
     "status": "completed"
    },
    "tags": []
   },
   "outputs": [],
   "source": [
    "def find_friendly(x):\n",
    "    if x == \"Friendly\":\n",
    "        return 1\n",
    "    else: return 0\n",
    "\n",
    "full_df[\"is_friendly\"] = full_df[\"tournament\"].apply(lambda x: find_friendly(x)) "
   ]
  },
  {
   "cell_type": "code",
   "execution_count": null,
   "id": "70827947",
   "metadata": {
    "execution": {
     "iopub.execute_input": "2022-11-19T16:09:10.140387Z",
     "iopub.status.busy": "2022-11-19T16:09:10.139636Z",
     "iopub.status.idle": "2022-11-19T16:09:10.152348Z",
     "shell.execute_reply": "2022-11-19T16:09:10.150465Z"
    },
    "papermill": {
     "duration": 0.044158,
     "end_time": "2022-11-19T16:09:10.155381",
     "exception": false,
     "start_time": "2022-11-19T16:09:10.111223",
     "status": "completed"
    },
    "tags": []
   },
   "outputs": [],
   "source": [
    "full_df = pd.get_dummies(full_df, columns=[\"is_friendly\"])"
   ]
  },
  {
   "cell_type": "code",
   "execution_count": null,
   "id": "79ed91f4",
   "metadata": {
    "execution": {
     "iopub.execute_input": "2022-11-19T16:09:10.209258Z",
     "iopub.status.busy": "2022-11-19T16:09:10.208798Z",
     "iopub.status.idle": "2022-11-19T16:09:10.216869Z",
     "shell.execute_reply": "2022-11-19T16:09:10.215841Z"
    },
    "papermill": {
     "duration": 0.038325,
     "end_time": "2022-11-19T16:09:10.219525",
     "exception": false,
     "start_time": "2022-11-19T16:09:10.181200",
     "status": "completed"
    },
    "tags": []
   },
   "outputs": [],
   "source": [
    "full_df.columns"
   ]
  },
  {
   "cell_type": "markdown",
   "id": "b15811cb",
   "metadata": {
    "papermill": {
     "duration": 0.02621,
     "end_time": "2022-11-19T16:09:10.272792",
     "exception": false,
     "start_time": "2022-11-19T16:09:10.246582",
     "status": "completed"
    },
    "tags": []
   },
   "source": [
    "And, after that, we select only columns that will help in Features' analysis."
   ]
  },
  {
   "cell_type": "code",
   "execution_count": null,
   "id": "5a99abda",
   "metadata": {
    "execution": {
     "iopub.execute_input": "2022-11-19T16:09:10.328760Z",
     "iopub.status.busy": "2022-11-19T16:09:10.328313Z",
     "iopub.status.idle": "2022-11-19T16:09:10.363752Z",
     "shell.execute_reply": "2022-11-19T16:09:10.362385Z"
    },
    "papermill": {
     "duration": 0.066135,
     "end_time": "2022-11-19T16:09:10.366291",
     "exception": false,
     "start_time": "2022-11-19T16:09:10.300156",
     "status": "completed"
    },
    "tags": []
   },
   "outputs": [],
   "source": [
    "base_df = full_df[[\"date\", \"home_team\", \"away_team\", \"rank_home\", \"rank_away\",\"home_score\", \"away_score\",\"result\", \"rank_dif\", \"rank_change_home\", \"rank_change_away\", 'home_goals_mean',\n",
    "       'home_goals_mean_l5', 'home_goals_suf_mean', 'home_goals_suf_mean_l5',\n",
    "       'home_rank_mean', 'home_rank_mean_l5', 'home_points_mean',\n",
    "       'home_points_mean_l5', 'away_goals_mean', 'away_goals_mean_l5',\n",
    "       'away_goals_suf_mean', 'away_goals_suf_mean_l5', 'away_rank_mean',\n",
    "       'away_rank_mean_l5', 'away_points_mean', 'away_points_mean_l5','home_game_points_mean', 'home_game_points_mean_l5',\n",
    "       'home_game_points_rank_mean', 'home_game_points_rank_mean_l5','away_game_points_mean',\n",
    "       'away_game_points_mean_l5', 'away_game_points_rank_mean',\n",
    "       'away_game_points_rank_mean_l5',\n",
    "       'is_friendly_0', 'is_friendly_1']]\n",
    "\n",
    "base_df.tail()"
   ]
  },
  {
   "cell_type": "code",
   "execution_count": null,
   "id": "cbfd3fd2",
   "metadata": {
    "execution": {
     "iopub.execute_input": "2022-11-19T16:09:10.420779Z",
     "iopub.status.busy": "2022-11-19T16:09:10.420343Z",
     "iopub.status.idle": "2022-11-19T16:09:10.432109Z",
     "shell.execute_reply": "2022-11-19T16:09:10.431139Z"
    },
    "papermill": {
     "duration": 0.041501,
     "end_time": "2022-11-19T16:09:10.434320",
     "exception": false,
     "start_time": "2022-11-19T16:09:10.392819",
     "status": "completed"
    },
    "tags": []
   },
   "outputs": [],
   "source": [
    "base_df.isna().sum()"
   ]
  },
  {
   "cell_type": "markdown",
   "id": "8dd0fc04",
   "metadata": {
    "papermill": {
     "duration": 0.027098,
     "end_time": "2022-11-19T16:09:10.489126",
     "exception": false,
     "start_time": "2022-11-19T16:09:10.462028",
     "status": "completed"
    },
    "tags": []
   },
   "source": [
    "The games with NA are the ones who mean could not be calculated (games from the beginning of the dataset). Those will be dropped."
   ]
  },
  {
   "cell_type": "code",
   "execution_count": null,
   "id": "f1827732",
   "metadata": {
    "execution": {
     "iopub.execute_input": "2022-11-19T16:09:10.544579Z",
     "iopub.status.busy": "2022-11-19T16:09:10.544164Z",
     "iopub.status.idle": "2022-11-19T16:09:10.553444Z",
     "shell.execute_reply": "2022-11-19T16:09:10.552314Z"
    },
    "papermill": {
     "duration": 0.040542,
     "end_time": "2022-11-19T16:09:10.556261",
     "exception": false,
     "start_time": "2022-11-19T16:09:10.515719",
     "status": "completed"
    },
    "tags": []
   },
   "outputs": [],
   "source": [
    "base_df_no_fg = base_df.dropna()"
   ]
  },
  {
   "cell_type": "markdown",
   "id": "0d57c8f0",
   "metadata": {
    "papermill": {
     "duration": 0.026931,
     "end_time": "2022-11-19T16:09:10.610313",
     "exception": false,
     "start_time": "2022-11-19T16:09:10.583382",
     "status": "completed"
    },
    "tags": []
   },
   "source": [
    "# Data Analysis\n",
    "\n",
    "Now, we need to analyze all features that were created and check if they have predictive power. Also, if they don't have, we need to create some that have, like differences of home and away teams. To analyze the predictive power, I'll assign draw games as a lose of the home team and will create a binary problem. "
   ]
  },
  {
   "cell_type": "code",
   "execution_count": null,
   "id": "0006429e",
   "metadata": {
    "execution": {
     "iopub.execute_input": "2022-11-19T16:09:10.665637Z",
     "iopub.status.busy": "2022-11-19T16:09:10.665209Z",
     "iopub.status.idle": "2022-11-19T16:09:10.670259Z",
     "shell.execute_reply": "2022-11-19T16:09:10.669005Z"
    },
    "papermill": {
     "duration": 0.035876,
     "end_time": "2022-11-19T16:09:10.672719",
     "exception": false,
     "start_time": "2022-11-19T16:09:10.636843",
     "status": "completed"
    },
    "tags": []
   },
   "outputs": [],
   "source": [
    "df = base_df_no_fg"
   ]
  },
  {
   "cell_type": "code",
   "execution_count": null,
   "id": "41b82c79",
   "metadata": {
    "execution": {
     "iopub.execute_input": "2022-11-19T16:09:10.728935Z",
     "iopub.status.busy": "2022-11-19T16:09:10.728529Z",
     "iopub.status.idle": "2022-11-19T16:09:10.738609Z",
     "shell.execute_reply": "2022-11-19T16:09:10.737259Z"
    },
    "papermill": {
     "duration": 0.041368,
     "end_time": "2022-11-19T16:09:10.741177",
     "exception": false,
     "start_time": "2022-11-19T16:09:10.699809",
     "status": "completed"
    },
    "tags": []
   },
   "outputs": [],
   "source": [
    "def no_draw(x):\n",
    "    if x == 2:\n",
    "        return 1\n",
    "    else:\n",
    "        return x\n",
    "    \n",
    "df[\"target\"] = df[\"result\"].apply(lambda x: no_draw(x))"
   ]
  },
  {
   "cell_type": "markdown",
   "id": "989368f4",
   "metadata": {
    "papermill": {
     "duration": 0.026545,
     "end_time": "2022-11-19T16:09:10.794749",
     "exception": false,
     "start_time": "2022-11-19T16:09:10.768204",
     "status": "completed"
    },
    "tags": []
   },
   "source": [
    "Analysis that will be made:\n",
    "\n",
    "- Violin and boxplot to analyze if the features have different distributions according to the target\n",
    "- Scatter plots to analyze correlations"
   ]
  },
  {
   "cell_type": "code",
   "execution_count": null,
   "id": "0b3c7120",
   "metadata": {
    "execution": {
     "iopub.execute_input": "2022-11-19T16:09:10.851338Z",
     "iopub.status.busy": "2022-11-19T16:09:10.850242Z",
     "iopub.status.idle": "2022-11-19T16:09:10.857252Z",
     "shell.execute_reply": "2022-11-19T16:09:10.856466Z"
    },
    "papermill": {
     "duration": 0.037824,
     "end_time": "2022-11-19T16:09:10.859708",
     "exception": false,
     "start_time": "2022-11-19T16:09:10.821884",
     "status": "completed"
    },
    "tags": []
   },
   "outputs": [],
   "source": [
    "data1 = df[list(df.columns[8:20].values) + [\"target\"]]\n",
    "data2 = df[df.columns[20:]]"
   ]
  },
  {
   "cell_type": "code",
   "execution_count": null,
   "id": "d87991d3",
   "metadata": {
    "execution": {
     "iopub.execute_input": "2022-11-19T16:09:10.915571Z",
     "iopub.status.busy": "2022-11-19T16:09:10.914821Z",
     "iopub.status.idle": "2022-11-19T16:09:10.942260Z",
     "shell.execute_reply": "2022-11-19T16:09:10.940813Z"
    },
    "papermill": {
     "duration": 0.058552,
     "end_time": "2022-11-19T16:09:10.944977",
     "exception": false,
     "start_time": "2022-11-19T16:09:10.886425",
     "status": "completed"
    },
    "tags": []
   },
   "outputs": [],
   "source": [
    "scaled = (data1[:-1] - data1[:-1].mean()) / data1[:-1].std()\n",
    "scaled[\"target\"] = data1[\"target\"]\n",
    "violin1 = pd.melt(scaled,id_vars=\"target\", var_name=\"features\", value_name=\"value\")\n",
    "\n",
    "scaled = (data2[:-1] - data2[:-1].mean()) / data2[:-1].std()\n",
    "scaled[\"target\"] = data2[\"target\"]\n",
    "violin2 = pd.melt(scaled,id_vars=\"target\", var_name=\"features\", value_name=\"value\")"
   ]
  },
  {
   "cell_type": "code",
   "execution_count": null,
   "id": "2a2b1129",
   "metadata": {
    "execution": {
     "iopub.execute_input": "2022-11-19T16:09:11.002784Z",
     "iopub.status.busy": "2022-11-19T16:09:11.002352Z",
     "iopub.status.idle": "2022-11-19T16:09:11.690537Z",
     "shell.execute_reply": "2022-11-19T16:09:11.689516Z"
    },
    "papermill": {
     "duration": 0.721235,
     "end_time": "2022-11-19T16:09:11.692923",
     "exception": false,
     "start_time": "2022-11-19T16:09:10.971688",
     "status": "completed"
    },
    "tags": []
   },
   "outputs": [],
   "source": [
    "plt.figure(figsize=(15,10))\n",
    "sns.violinplot(x=\"features\", y=\"value\", hue=\"target\", data=violin1,split=True, inner=\"quart\")\n",
    "plt.xticks(rotation=90)\n",
    "plt.show()"
   ]
  },
  {
   "cell_type": "code",
   "execution_count": null,
   "id": "6ce77cb1",
   "metadata": {
    "execution": {
     "iopub.execute_input": "2022-11-19T16:09:11.754315Z",
     "iopub.status.busy": "2022-11-19T16:09:11.753871Z",
     "iopub.status.idle": "2022-11-19T16:09:12.612790Z",
     "shell.execute_reply": "2022-11-19T16:09:12.611462Z"
    },
    "papermill": {
     "duration": 0.893391,
     "end_time": "2022-11-19T16:09:12.616889",
     "exception": false,
     "start_time": "2022-11-19T16:09:11.723498",
     "status": "completed"
    },
    "tags": []
   },
   "outputs": [],
   "source": [
    "plt.figure(figsize=(15,10))\n",
    "sns.violinplot(x=\"features\", y=\"value\", hue=\"target\", data=violin2,split=True, inner=\"quart\")\n",
    "plt.xticks(rotation=90)\n",
    "plt.show()"
   ]
  },
  {
   "cell_type": "markdown",
   "id": "a20d2312",
   "metadata": {
    "papermill": {
     "duration": 0.04225,
     "end_time": "2022-11-19T16:09:12.701077",
     "exception": false,
     "start_time": "2022-11-19T16:09:12.658827",
     "status": "completed"
    },
    "tags": []
   },
   "source": [
    "With the plots, we find that rank difference is the only good separator of the data. But, we can create features that get the differences between home and away team and analyze if they are good separating the data."
   ]
  },
  {
   "cell_type": "code",
   "execution_count": null,
   "id": "23400ce0",
   "metadata": {
    "execution": {
     "iopub.execute_input": "2022-11-19T16:09:12.766309Z",
     "iopub.status.busy": "2022-11-19T16:09:12.765827Z",
     "iopub.status.idle": "2022-11-19T16:09:12.783035Z",
     "shell.execute_reply": "2022-11-19T16:09:12.781647Z"
    },
    "papermill": {
     "duration": 0.052663,
     "end_time": "2022-11-19T16:09:12.785976",
     "exception": false,
     "start_time": "2022-11-19T16:09:12.733313",
     "status": "completed"
    },
    "tags": []
   },
   "outputs": [],
   "source": [
    "dif = df.copy()\n",
    "dif.loc[:, \"goals_dif\"] = dif[\"home_goals_mean\"] - dif[\"away_goals_mean\"]\n",
    "dif.loc[:, \"goals_dif_l5\"] = dif[\"home_goals_mean_l5\"] - dif[\"away_goals_mean_l5\"]\n",
    "dif.loc[:, \"goals_suf_dif\"] = dif[\"home_goals_suf_mean\"] - dif[\"away_goals_suf_mean\"]\n",
    "dif.loc[:, \"goals_suf_dif_l5\"] = dif[\"home_goals_suf_mean_l5\"] - dif[\"away_goals_suf_mean_l5\"]\n",
    "dif.loc[:, \"goals_made_suf_dif\"] = dif[\"home_goals_mean\"] - dif[\"away_goals_suf_mean\"]\n",
    "dif.loc[:, \"goals_made_suf_dif_l5\"] = dif[\"home_goals_mean_l5\"] - dif[\"away_goals_suf_mean_l5\"]\n",
    "dif.loc[:, \"goals_suf_made_dif\"] = dif[\"home_goals_suf_mean\"] - dif[\"away_goals_mean\"]\n",
    "dif.loc[:, \"goals_suf_made_dif_l5\"] = dif[\"home_goals_suf_mean_l5\"] - dif[\"away_goals_mean_l5\"]"
   ]
  },
  {
   "cell_type": "code",
   "execution_count": null,
   "id": "d109a21b",
   "metadata": {
    "execution": {
     "iopub.execute_input": "2022-11-19T16:09:12.847984Z",
     "iopub.status.busy": "2022-11-19T16:09:12.847531Z",
     "iopub.status.idle": "2022-11-19T16:09:13.517321Z",
     "shell.execute_reply": "2022-11-19T16:09:13.515697Z"
    },
    "papermill": {
     "duration": 0.703788,
     "end_time": "2022-11-19T16:09:13.520389",
     "exception": false,
     "start_time": "2022-11-19T16:09:12.816601",
     "status": "completed"
    },
    "tags": []
   },
   "outputs": [],
   "source": [
    "data_difs = dif.iloc[:, -8:]\n",
    "scaled = (data_difs - data_difs.mean()) / data_difs.std()\n",
    "scaled[\"target\"] = data2[\"target\"]\n",
    "violin = pd.melt(scaled,id_vars=\"target\", var_name=\"features\", value_name=\"value\")\n",
    "\n",
    "plt.figure(figsize=(10,10))\n",
    "sns.violinplot(x=\"features\", y=\"value\", hue=\"target\", data=violin,split=True, inner=\"quart\")\n",
    "plt.xticks(rotation=90)\n",
    "plt.show()"
   ]
  },
  {
   "cell_type": "markdown",
   "id": "cce794a0",
   "metadata": {
    "papermill": {
     "duration": 0.03091,
     "end_time": "2022-11-19T16:09:13.583527",
     "exception": false,
     "start_time": "2022-11-19T16:09:13.552617",
     "status": "completed"
    },
    "tags": []
   },
   "source": [
    "With that plot, we see that goal differences are good separator, and goals suffered difference too. Differences between goals made and goals suffered of the teams are not very good separators.\n",
    "\n",
    "Now, we have 5 features:\n",
    "\n",
    "- rank_dif\n",
    "- goals_dif\n",
    "- goals_dif_l5\n",
    "- goals_suf_dif\n",
    "- goals_suf_dif_l5\n",
    "\n",
    "We can create other features, like differences of points made, differences of points made by rank faced and differences of rank faced."
   ]
  },
  {
   "cell_type": "code",
   "execution_count": null,
   "id": "e9f0bb34",
   "metadata": {
    "execution": {
     "iopub.execute_input": "2022-11-19T16:09:13.648148Z",
     "iopub.status.busy": "2022-11-19T16:09:13.647199Z",
     "iopub.status.idle": "2022-11-19T16:09:13.657700Z",
     "shell.execute_reply": "2022-11-19T16:09:13.656477Z"
    },
    "papermill": {
     "duration": 0.045673,
     "end_time": "2022-11-19T16:09:13.660461",
     "exception": false,
     "start_time": "2022-11-19T16:09:13.614788",
     "status": "completed"
    },
    "tags": []
   },
   "outputs": [],
   "source": [
    "dif.loc[:, \"dif_points\"] = dif[\"home_game_points_mean\"] - dif[\"away_game_points_mean\"]\n",
    "dif.loc[:, \"dif_points_l5\"] = dif[\"home_game_points_mean_l5\"] - dif[\"away_game_points_mean_l5\"]\n",
    "dif.loc[:, \"dif_points_rank\"] = dif[\"home_game_points_rank_mean\"] - dif[\"away_game_points_rank_mean\"]\n",
    "dif.loc[:, \"dif_points_rank_l5\"] = dif[\"home_game_points_rank_mean_l5\"] - dif[\"away_game_points_rank_mean_l5\"]"
   ]
  },
  {
   "cell_type": "code",
   "execution_count": null,
   "id": "097ecbd4",
   "metadata": {
    "execution": {
     "iopub.execute_input": "2022-11-19T16:09:13.722970Z",
     "iopub.status.busy": "2022-11-19T16:09:13.722144Z",
     "iopub.status.idle": "2022-11-19T16:09:13.730432Z",
     "shell.execute_reply": "2022-11-19T16:09:13.729375Z"
    },
    "papermill": {
     "duration": 0.042597,
     "end_time": "2022-11-19T16:09:13.733320",
     "exception": false,
     "start_time": "2022-11-19T16:09:13.690723",
     "status": "completed"
    },
    "tags": []
   },
   "outputs": [],
   "source": [
    "dif.loc[:, \"dif_rank_agst\"] = dif[\"home_rank_mean\"] - dif[\"away_rank_mean\"]\n",
    "dif.loc[:, \"dif_rank_agst_l5\"] = dif[\"home_rank_mean_l5\"] - dif[\"away_rank_mean_l5\"]"
   ]
  },
  {
   "cell_type": "markdown",
   "id": "31380880",
   "metadata": {
    "papermill": {
     "duration": 0.029962,
     "end_time": "2022-11-19T16:09:13.794444",
     "exception": false,
     "start_time": "2022-11-19T16:09:13.764482",
     "status": "completed"
    },
    "tags": []
   },
   "source": [
    "Also, we can calculate goals made and suffered by rank, and check this difference."
   ]
  },
  {
   "cell_type": "code",
   "execution_count": null,
   "id": "1a7721ee",
   "metadata": {
    "execution": {
     "iopub.execute_input": "2022-11-19T16:09:13.858555Z",
     "iopub.status.busy": "2022-11-19T16:09:13.857775Z",
     "iopub.status.idle": "2022-11-19T16:09:13.869853Z",
     "shell.execute_reply": "2022-11-19T16:09:13.868516Z"
    },
    "papermill": {
     "duration": 0.046973,
     "end_time": "2022-11-19T16:09:13.872460",
     "exception": false,
     "start_time": "2022-11-19T16:09:13.825487",
     "status": "completed"
    },
    "tags": []
   },
   "outputs": [],
   "source": [
    "dif.loc[:, \"goals_per_ranking_dif\"] = (dif[\"home_goals_mean\"] / dif[\"home_rank_mean\"]) - (dif[\"away_goals_mean\"] / dif[\"away_rank_mean\"])\n",
    "dif.loc[:, \"goals_per_ranking_suf_dif\"] = (dif[\"home_goals_suf_mean\"] / dif[\"home_rank_mean\"]) - (dif[\"away_goals_suf_mean\"] / dif[\"away_rank_mean\"])\n",
    "dif.loc[:, \"goals_per_ranking_dif_l5\"] = (dif[\"home_goals_mean_l5\"] / dif[\"home_rank_mean\"]) - (dif[\"away_goals_mean_l5\"] / dif[\"away_rank_mean\"])\n",
    "dif.loc[:, \"goals_per_ranking_suf_dif_l5\"] = (dif[\"home_goals_suf_mean_l5\"] / dif[\"home_rank_mean\"]) - (dif[\"away_goals_suf_mean_l5\"] / dif[\"away_rank_mean\"])"
   ]
  },
  {
   "cell_type": "code",
   "execution_count": null,
   "id": "7342f6bc",
   "metadata": {
    "execution": {
     "iopub.execute_input": "2022-11-19T16:09:13.935376Z",
     "iopub.status.busy": "2022-11-19T16:09:13.934556Z",
     "iopub.status.idle": "2022-11-19T16:09:14.611717Z",
     "shell.execute_reply": "2022-11-19T16:09:14.610499Z"
    },
    "papermill": {
     "duration": 0.712373,
     "end_time": "2022-11-19T16:09:14.614944",
     "exception": false,
     "start_time": "2022-11-19T16:09:13.902571",
     "status": "completed"
    },
    "tags": []
   },
   "outputs": [],
   "source": [
    "data_difs = dif.iloc[:, -10:]\n",
    "scaled = (data_difs - data_difs.mean()) / data_difs.std()\n",
    "scaled[\"target\"] = data2[\"target\"]\n",
    "violin = pd.melt(scaled,id_vars=\"target\", var_name=\"features\", value_name=\"value\")\n",
    "\n",
    "plt.figure(figsize=(15,10))\n",
    "sns.violinplot(x=\"features\", y=\"value\", hue=\"target\", data=violin,split=True, inner=\"quart\")\n",
    "plt.xticks(rotation=90)\n",
    "plt.show()"
   ]
  },
  {
   "cell_type": "markdown",
   "id": "5ffe423e",
   "metadata": {
    "papermill": {
     "duration": 0.040495,
     "end_time": "2022-11-19T16:09:14.691804",
     "exception": false,
     "start_time": "2022-11-19T16:09:14.651309",
     "status": "completed"
    },
    "tags": []
   },
   "source": [
    "Due to the low values, the violin plot was not a good choice to analyze if features are really separating the data in this case. We will see then the boxplot:"
   ]
  },
  {
   "cell_type": "code",
   "execution_count": null,
   "id": "03a05b37",
   "metadata": {
    "execution": {
     "iopub.execute_input": "2022-11-19T16:09:14.760545Z",
     "iopub.status.busy": "2022-11-19T16:09:14.760089Z",
     "iopub.status.idle": "2022-11-19T16:09:15.374864Z",
     "shell.execute_reply": "2022-11-19T16:09:15.373685Z"
    },
    "papermill": {
     "duration": 0.651634,
     "end_time": "2022-11-19T16:09:15.377549",
     "exception": false,
     "start_time": "2022-11-19T16:09:14.725915",
     "status": "completed"
    },
    "tags": []
   },
   "outputs": [],
   "source": [
    "plt.figure(figsize=(15,10))\n",
    "sns.boxplot(x=\"features\", y=\"value\", hue=\"target\", data=violin)\n",
    "plt.xticks(rotation=90)\n",
    "plt.show()"
   ]
  },
  {
   "cell_type": "markdown",
   "id": "59f5b3b7",
   "metadata": {
    "papermill": {
     "duration": 0.031087,
     "end_time": "2022-11-19T16:09:15.440368",
     "exception": false,
     "start_time": "2022-11-19T16:09:15.409281",
     "status": "completed"
    },
    "tags": []
   },
   "source": [
    "Difference of points (full and last 5 games), difference of points by ranking faced (full and last 5 games) and difference of rank faced (full and last 5 games) are good features. Also, some of the generated features have very similar distributions which will be analyzed using scatterplots."
   ]
  },
  {
   "cell_type": "code",
   "execution_count": null,
   "id": "bdcacb93",
   "metadata": {
    "execution": {
     "iopub.execute_input": "2022-11-19T16:09:15.505497Z",
     "iopub.status.busy": "2022-11-19T16:09:15.505052Z",
     "iopub.status.idle": "2022-11-19T16:09:18.103482Z",
     "shell.execute_reply": "2022-11-19T16:09:18.102151Z"
    },
    "papermill": {
     "duration": 2.633905,
     "end_time": "2022-11-19T16:09:18.105951",
     "exception": false,
     "start_time": "2022-11-19T16:09:15.472046",
     "status": "completed"
    },
    "tags": []
   },
   "outputs": [],
   "source": [
    "sns.jointplot(data = data_difs, x = 'goals_per_ranking_dif', y = 'goals_per_ranking_dif_l5', kind=\"reg\")\n",
    "plt.show()"
   ]
  },
  {
   "cell_type": "markdown",
   "id": "78f99239",
   "metadata": {
    "papermill": {
     "duration": 0.032082,
     "end_time": "2022-11-19T16:09:18.170793",
     "exception": false,
     "start_time": "2022-11-19T16:09:18.138711",
     "status": "completed"
    },
    "tags": []
   },
   "source": [
    "Goals difference by ranking faced and its last 5 games version has very similar distributions. So, we will use only the full version (goals_per_ranking_dif)."
   ]
  },
  {
   "cell_type": "code",
   "execution_count": null,
   "id": "9af1f36e",
   "metadata": {
    "execution": {
     "iopub.execute_input": "2022-11-19T16:09:18.239776Z",
     "iopub.status.busy": "2022-11-19T16:09:18.239074Z",
     "iopub.status.idle": "2022-11-19T16:09:19.298964Z",
     "shell.execute_reply": "2022-11-19T16:09:19.297728Z"
    },
    "papermill": {
     "duration": 1.098678,
     "end_time": "2022-11-19T16:09:19.302006",
     "exception": false,
     "start_time": "2022-11-19T16:09:18.203328",
     "status": "completed"
    },
    "tags": []
   },
   "outputs": [],
   "source": [
    "sns.jointplot(data = data_difs, x = 'dif_rank_agst', y = 'dif_rank_agst_l5', kind=\"reg\")\n",
    "plt.show()"
   ]
  },
  {
   "cell_type": "code",
   "execution_count": null,
   "id": "1c91c757",
   "metadata": {
    "execution": {
     "iopub.execute_input": "2022-11-19T16:09:19.369621Z",
     "iopub.status.busy": "2022-11-19T16:09:19.369175Z",
     "iopub.status.idle": "2022-11-19T16:09:20.360752Z",
     "shell.execute_reply": "2022-11-19T16:09:20.358851Z"
    },
    "papermill": {
     "duration": 1.029023,
     "end_time": "2022-11-19T16:09:20.363669",
     "exception": false,
     "start_time": "2022-11-19T16:09:19.334646",
     "status": "completed"
    },
    "tags": []
   },
   "outputs": [],
   "source": [
    "sns.jointplot(data = data_difs, x = 'dif_points', y = 'dif_points_l5', kind=\"reg\")\n",
    "plt.show()"
   ]
  },
  {
   "cell_type": "code",
   "execution_count": null,
   "id": "f95206d7",
   "metadata": {
    "execution": {
     "iopub.execute_input": "2022-11-19T16:09:20.436964Z",
     "iopub.status.busy": "2022-11-19T16:09:20.436560Z",
     "iopub.status.idle": "2022-11-19T16:09:23.052185Z",
     "shell.execute_reply": "2022-11-19T16:09:23.051122Z"
    },
    "papermill": {
     "duration": 2.655622,
     "end_time": "2022-11-19T16:09:23.054741",
     "exception": false,
     "start_time": "2022-11-19T16:09:20.399119",
     "status": "completed"
    },
    "tags": []
   },
   "outputs": [],
   "source": [
    "sns.jointplot(data = data_difs, x = 'dif_points_rank', y = 'dif_points_rank_l5', kind=\"reg\")\n",
    "plt.show()"
   ]
  },
  {
   "cell_type": "markdown",
   "id": "3f5445b4",
   "metadata": {
    "papermill": {
     "duration": 0.033937,
     "end_time": "2022-11-19T16:09:23.122764",
     "exception": false,
     "start_time": "2022-11-19T16:09:23.088827",
     "status": "completed"
    },
    "tags": []
   },
   "source": [
    "For the differences of rank faced, game points by rank faced and mean game points by rank faced, the two versions (full and 5 games) are not so similar. So, we will use both.\n",
    "\n",
    "Based on that, final features are:\n",
    "\n",
    "\n",
    "- rank_dif\n",
    "- goals_dif\n",
    "- goals_dif_l5\n",
    "- goals_suf_dif\n",
    "- goals_suf_dif_l5\n",
    "- dif_rank_agst\n",
    "- dif_rank_agst_l5\n",
    "- goals_per_ranking_dif\n",
    "- dif_points_rank\n",
    "- dif_points_rank_l5\n",
    "- is_friendly"
   ]
  },
  {
   "cell_type": "code",
   "execution_count": null,
   "id": "ad2372c0",
   "metadata": {
    "execution": {
     "iopub.execute_input": "2022-11-19T16:09:23.192884Z",
     "iopub.status.busy": "2022-11-19T16:09:23.192332Z",
     "iopub.status.idle": "2022-11-19T16:09:23.203553Z",
     "shell.execute_reply": "2022-11-19T16:09:23.202298Z"
    },
    "papermill": {
     "duration": 0.049606,
     "end_time": "2022-11-19T16:09:23.206184",
     "exception": false,
     "start_time": "2022-11-19T16:09:23.156578",
     "status": "completed"
    },
    "tags": []
   },
   "outputs": [],
   "source": [
    "def create_db(df):\n",
    "    columns = [\"home_team\", \"away_team\", \"target\", \"rank_dif\", \"home_goals_mean\", \"home_rank_mean\", \"away_goals_mean\", \"away_rank_mean\", \"home_rank_mean_l5\", \"away_rank_mean_l5\", \"home_goals_suf_mean\", \"away_goals_suf_mean\", \"home_goals_mean_l5\", \"away_goals_mean_l5\", \"home_goals_suf_mean_l5\", \"away_goals_suf_mean_l5\", \"home_game_points_rank_mean\", \"home_game_points_rank_mean_l5\", \"away_game_points_rank_mean\", \"away_game_points_rank_mean_l5\",\"is_friendly_0\", \"is_friendly_1\"]\n",
    "    \n",
    "    base = df.loc[:, columns]\n",
    "    base.loc[:, \"goals_dif\"] = base[\"home_goals_mean\"] - base[\"away_goals_mean\"]\n",
    "    base.loc[:, \"goals_dif_l5\"] = base[\"home_goals_mean_l5\"] - base[\"away_goals_mean_l5\"]\n",
    "    base.loc[:, \"goals_suf_dif\"] = base[\"home_goals_suf_mean\"] - base[\"away_goals_suf_mean\"]\n",
    "    base.loc[:, \"goals_suf_dif_l5\"] = base[\"home_goals_suf_mean_l5\"] - base[\"away_goals_suf_mean_l5\"]\n",
    "    base.loc[:, \"goals_per_ranking_dif\"] = (base[\"home_goals_mean\"] / base[\"home_rank_mean\"]) - (base[\"away_goals_mean\"] / base[\"away_rank_mean\"])\n",
    "    base.loc[:, \"dif_rank_agst\"] = base[\"home_rank_mean\"] - base[\"away_rank_mean\"]\n",
    "    base.loc[:, \"dif_rank_agst_l5\"] = base[\"home_rank_mean_l5\"] - base[\"away_rank_mean_l5\"]\n",
    "    base.loc[:, \"dif_points_rank\"] = base[\"home_game_points_rank_mean\"] - base[\"away_game_points_rank_mean\"]\n",
    "    base.loc[:, \"dif_points_rank_l5\"] = base[\"home_game_points_rank_mean_l5\"] - base[\"away_game_points_rank_mean_l5\"]\n",
    "    \n",
    "    model_df = base[[\"home_team\", \"away_team\", \"target\", \"rank_dif\", \"goals_dif\", \"goals_dif_l5\", \"goals_suf_dif\", \"goals_suf_dif_l5\", \"goals_per_ranking_dif\", \"dif_rank_agst\", \"dif_rank_agst_l5\", \"dif_points_rank\", \"dif_points_rank_l5\", \"is_friendly_0\", \"is_friendly_1\"]]\n",
    "    return model_df"
   ]
  },
  {
   "cell_type": "code",
   "execution_count": null,
   "id": "d267be64",
   "metadata": {
    "execution": {
     "iopub.execute_input": "2022-11-19T16:09:23.278063Z",
     "iopub.status.busy": "2022-11-19T16:09:23.277575Z",
     "iopub.status.idle": "2022-11-19T16:09:23.292821Z",
     "shell.execute_reply": "2022-11-19T16:09:23.291368Z"
    },
    "papermill": {
     "duration": 0.055207,
     "end_time": "2022-11-19T16:09:23.295753",
     "exception": false,
     "start_time": "2022-11-19T16:09:23.240546",
     "status": "completed"
    },
    "tags": []
   },
   "outputs": [],
   "source": [
    "model_db = create_db(df)"
   ]
  },
  {
   "cell_type": "code",
   "execution_count": null,
   "id": "a43d4f62",
   "metadata": {
    "execution": {
     "iopub.execute_input": "2022-11-19T16:09:23.366847Z",
     "iopub.status.busy": "2022-11-19T16:09:23.366124Z",
     "iopub.status.idle": "2022-11-19T16:09:23.392429Z",
     "shell.execute_reply": "2022-11-19T16:09:23.391270Z"
    },
    "papermill": {
     "duration": 0.064896,
     "end_time": "2022-11-19T16:09:23.395202",
     "exception": false,
     "start_time": "2022-11-19T16:09:23.330306",
     "status": "completed"
    },
    "tags": []
   },
   "outputs": [],
   "source": [
    "model_db"
   ]
  },
  {
   "cell_type": "markdown",
   "id": "3dca01ea",
   "metadata": {
    "papermill": {
     "duration": 0.035201,
     "end_time": "2022-11-19T16:09:23.465988",
     "exception": false,
     "start_time": "2022-11-19T16:09:23.430787",
     "status": "completed"
    },
    "tags": []
   },
   "source": [
    "# The model\n",
    "\n",
    "Now that we have a database ready and with columns with predictive power, we can start our modelling. \n",
    "\n",
    "Two models will be tested: Random Forest and Gradient Boosting. The selected will be the one with best recall."
   ]
  },
  {
   "cell_type": "code",
   "execution_count": null,
   "id": "20621445",
   "metadata": {
    "execution": {
     "iopub.execute_input": "2022-11-19T16:09:23.537177Z",
     "iopub.status.busy": "2022-11-19T16:09:23.536342Z",
     "iopub.status.idle": "2022-11-19T16:09:23.543215Z",
     "shell.execute_reply": "2022-11-19T16:09:23.542395Z"
    },
    "papermill": {
     "duration": 0.04524,
     "end_time": "2022-11-19T16:09:23.545697",
     "exception": false,
     "start_time": "2022-11-19T16:09:23.500457",
     "status": "completed"
    },
    "tags": []
   },
   "outputs": [],
   "source": [
    "X = model_db.iloc[:, 3:]\n",
    "y = model_db[[\"target\"]]"
   ]
  },
  {
   "cell_type": "code",
   "execution_count": null,
   "id": "e4580834",
   "metadata": {
    "execution": {
     "iopub.execute_input": "2022-11-19T16:09:23.632763Z",
     "iopub.status.busy": "2022-11-19T16:09:23.632023Z",
     "iopub.status.idle": "2022-11-19T16:09:24.080833Z",
     "shell.execute_reply": "2022-11-19T16:09:24.079634Z"
    },
    "papermill": {
     "duration": 0.500129,
     "end_time": "2022-11-19T16:09:24.083878",
     "exception": false,
     "start_time": "2022-11-19T16:09:23.583749",
     "status": "completed"
    },
    "tags": []
   },
   "outputs": [],
   "source": [
    "from sklearn.ensemble import RandomForestClassifier, GradientBoostingClassifier\n",
    "from sklearn.model_selection import train_test_split, GridSearchCV"
   ]
  },
  {
   "cell_type": "code",
   "execution_count": null,
   "id": "8d9cb413",
   "metadata": {
    "execution": {
     "iopub.execute_input": "2022-11-19T16:09:24.159043Z",
     "iopub.status.busy": "2022-11-19T16:09:24.158425Z",
     "iopub.status.idle": "2022-11-19T16:09:24.164909Z",
     "shell.execute_reply": "2022-11-19T16:09:24.163741Z"
    },
    "papermill": {
     "duration": 0.047587,
     "end_time": "2022-11-19T16:09:24.167493",
     "exception": false,
     "start_time": "2022-11-19T16:09:24.119906",
     "status": "completed"
    },
    "tags": []
   },
   "outputs": [],
   "source": [
    "X_train, X_test, y_train, y_test = train_test_split(X, y, test_size= 0.2, random_state=1)"
   ]
  },
  {
   "cell_type": "code",
   "execution_count": null,
   "id": "63ba8e43",
   "metadata": {
    "execution": {
     "iopub.execute_input": "2022-11-19T16:09:24.239355Z",
     "iopub.status.busy": "2022-11-19T16:09:24.238923Z",
     "iopub.status.idle": "2022-11-19T16:10:24.323076Z",
     "shell.execute_reply": "2022-11-19T16:10:24.321551Z"
    },
    "papermill": {
     "duration": 60.162278,
     "end_time": "2022-11-19T16:10:24.365027",
     "exception": false,
     "start_time": "2022-11-19T16:09:24.202749",
     "status": "completed"
    },
    "tags": []
   },
   "outputs": [],
   "source": [
    "gb = GradientBoostingClassifier(random_state=5)\n",
    "\n",
    "params = {\"learning_rate\": [0.01, 0.1, 0.5],\n",
    "            \"min_samples_split\": [5, 10],\n",
    "            \"min_samples_leaf\": [3, 5],\n",
    "            \"max_depth\":[3,5,10],\n",
    "            \"max_features\":[\"sqrt\"],\n",
    "            \"n_estimators\":[100, 200]\n",
    "         } \n",
    "\n",
    "gb_cv = GridSearchCV(gb, params, cv = 3, n_jobs = -1, verbose = False)\n",
    "\n",
    "gb_cv.fit(X_train.values, np.ravel(y_train))"
   ]
  },
  {
   "cell_type": "code",
   "execution_count": null,
   "id": "c5c3f358",
   "metadata": {
    "execution": {
     "iopub.execute_input": "2022-11-19T16:10:24.444880Z",
     "iopub.status.busy": "2022-11-19T16:10:24.444202Z",
     "iopub.status.idle": "2022-11-19T16:10:24.449209Z",
     "shell.execute_reply": "2022-11-19T16:10:24.448253Z"
    },
    "papermill": {
     "duration": 0.050274,
     "end_time": "2022-11-19T16:10:24.452416",
     "exception": false,
     "start_time": "2022-11-19T16:10:24.402142",
     "status": "completed"
    },
    "tags": []
   },
   "outputs": [],
   "source": [
    "gb = gb_cv.best_estimator_"
   ]
  },
  {
   "cell_type": "code",
   "execution_count": null,
   "id": "8c325840",
   "metadata": {
    "execution": {
     "iopub.execute_input": "2022-11-19T16:10:24.526788Z",
     "iopub.status.busy": "2022-11-19T16:10:24.526176Z",
     "iopub.status.idle": "2022-11-19T16:10:24.533940Z",
     "shell.execute_reply": "2022-11-19T16:10:24.532697Z"
    },
    "papermill": {
     "duration": 0.047756,
     "end_time": "2022-11-19T16:10:24.536346",
     "exception": false,
     "start_time": "2022-11-19T16:10:24.488590",
     "status": "completed"
    },
    "tags": []
   },
   "outputs": [],
   "source": [
    "gb"
   ]
  },
  {
   "cell_type": "code",
   "execution_count": null,
   "id": "1a52047d",
   "metadata": {
    "execution": {
     "iopub.execute_input": "2022-11-19T16:10:24.612139Z",
     "iopub.status.busy": "2022-11-19T16:10:24.611658Z",
     "iopub.status.idle": "2022-11-19T16:10:27.783517Z",
     "shell.execute_reply": "2022-11-19T16:10:27.782232Z"
    },
    "papermill": {
     "duration": 3.213439,
     "end_time": "2022-11-19T16:10:27.786285",
     "exception": false,
     "start_time": "2022-11-19T16:10:24.572846",
     "status": "completed"
    },
    "tags": []
   },
   "outputs": [],
   "source": [
    "params_rf = {\"max_depth\": [20],\n",
    "                \"min_samples_split\": [10],\n",
    "                \"max_leaf_nodes\": [175],\n",
    "                \"min_samples_leaf\": [5],\n",
    "                \"n_estimators\": [250],\n",
    "                 \"max_features\": [\"sqrt\"],\n",
    "                }\n",
    "\n",
    "rf = RandomForestClassifier(random_state=1)\n",
    "\n",
    "rf_cv = GridSearchCV(rf, params_rf, cv = 3, n_jobs = -1, verbose = False)\n",
    "\n",
    "rf_cv.fit(X_train.values, np.ravel(y_train))"
   ]
  },
  {
   "cell_type": "code",
   "execution_count": null,
   "id": "1120ce22",
   "metadata": {
    "execution": {
     "iopub.execute_input": "2022-11-19T16:10:27.863496Z",
     "iopub.status.busy": "2022-11-19T16:10:27.863077Z",
     "iopub.status.idle": "2022-11-19T16:10:27.868114Z",
     "shell.execute_reply": "2022-11-19T16:10:27.866898Z"
    },
    "papermill": {
     "duration": 0.045262,
     "end_time": "2022-11-19T16:10:27.870735",
     "exception": false,
     "start_time": "2022-11-19T16:10:27.825473",
     "status": "completed"
    },
    "tags": []
   },
   "outputs": [],
   "source": [
    "rf = rf_cv.best_estimator_"
   ]
  },
  {
   "cell_type": "code",
   "execution_count": null,
   "id": "3509e05f",
   "metadata": {
    "execution": {
     "iopub.execute_input": "2022-11-19T16:10:27.944160Z",
     "iopub.status.busy": "2022-11-19T16:10:27.943458Z",
     "iopub.status.idle": "2022-11-19T16:10:27.947965Z",
     "shell.execute_reply": "2022-11-19T16:10:27.947090Z"
    },
    "papermill": {
     "duration": 0.044979,
     "end_time": "2022-11-19T16:10:27.950490",
     "exception": false,
     "start_time": "2022-11-19T16:10:27.905511",
     "status": "completed"
    },
    "tags": []
   },
   "outputs": [],
   "source": [
    "from sklearn.metrics import confusion_matrix, roc_curve, roc_auc_score"
   ]
  },
  {
   "cell_type": "code",
   "execution_count": null,
   "id": "c48fde13",
   "metadata": {
    "execution": {
     "iopub.execute_input": "2022-11-19T16:10:28.027431Z",
     "iopub.status.busy": "2022-11-19T16:10:28.026964Z",
     "iopub.status.idle": "2022-11-19T16:10:28.039174Z",
     "shell.execute_reply": "2022-11-19T16:10:28.037618Z"
    },
    "papermill": {
     "duration": 0.052479,
     "end_time": "2022-11-19T16:10:28.042290",
     "exception": false,
     "start_time": "2022-11-19T16:10:27.989811",
     "status": "completed"
    },
    "tags": []
   },
   "outputs": [],
   "source": [
    "def analyze(model):\n",
    "    fpr, tpr, _ = roc_curve(y_test, model.predict_proba(X_test.values)[:,1]) #test AUC\n",
    "    plt.figure(figsize=(15,10))\n",
    "    plt.plot([0, 1], [0, 1], 'k--')\n",
    "    plt.plot(fpr, tpr, label=\"test\")\n",
    "\n",
    "    fpr_train, tpr_train, _ = roc_curve(y_train, model.predict_proba(X_train.values)[:,1]) #train AUC\n",
    "    plt.plot(fpr_train, tpr_train, label=\"train\")\n",
    "    auc_test = roc_auc_score(y_test, model.predict_proba(X_test.values)[:,1])\n",
    "    auc_train = roc_auc_score(y_train, model.predict_proba(X_train.values)[:,1])\n",
    "    plt.legend()\n",
    "    plt.title('AUC score is %.2f on test and %.2f on training'%(auc_test, auc_train))\n",
    "    plt.show()\n",
    "    \n",
    "    plt.figure(figsize=(15, 10))\n",
    "    cm = confusion_matrix(y_test, model.predict(X_test.values))\n",
    "    sns.heatmap(cm, annot=True, fmt=\"d\")"
   ]
  },
  {
   "cell_type": "code",
   "execution_count": null,
   "id": "abd0e732",
   "metadata": {
    "execution": {
     "iopub.execute_input": "2022-11-19T16:10:28.118372Z",
     "iopub.status.busy": "2022-11-19T16:10:28.117596Z",
     "iopub.status.idle": "2022-11-19T16:10:28.749763Z",
     "shell.execute_reply": "2022-11-19T16:10:28.746322Z"
    },
    "papermill": {
     "duration": 0.674264,
     "end_time": "2022-11-19T16:10:28.752797",
     "exception": false,
     "start_time": "2022-11-19T16:10:28.078533",
     "status": "completed"
    },
    "tags": []
   },
   "outputs": [],
   "source": [
    "analyze(gb)"
   ]
  },
  {
   "cell_type": "code",
   "execution_count": null,
   "id": "c73a97dc",
   "metadata": {
    "execution": {
     "iopub.execute_input": "2022-11-19T16:10:28.838773Z",
     "iopub.status.busy": "2022-11-19T16:10:28.838278Z",
     "iopub.status.idle": "2022-11-19T16:10:30.030436Z",
     "shell.execute_reply": "2022-11-19T16:10:30.028023Z"
    },
    "papermill": {
     "duration": 1.242375,
     "end_time": "2022-11-19T16:10:30.035655",
     "exception": false,
     "start_time": "2022-11-19T16:10:28.793280",
     "status": "completed"
    },
    "tags": []
   },
   "outputs": [],
   "source": [
    "analyze(rf)"
   ]
  },
  {
   "cell_type": "markdown",
   "id": "0acd4bc4",
   "metadata": {
    "papermill": {
     "duration": 0.04454,
     "end_time": "2022-11-19T16:10:30.119261",
     "exception": false,
     "start_time": "2022-11-19T16:10:30.074721",
     "status": "completed"
    },
    "tags": []
   },
   "source": [
    "The Random Forest model is a little bit better but seems to underfit. So, we will use the Gradient Boosting Model."
   ]
  },
  {
   "cell_type": "code",
   "execution_count": null,
   "id": "0f6eefbb",
   "metadata": {
    "execution": {
     "iopub.execute_input": "2022-11-19T16:10:30.203124Z",
     "iopub.status.busy": "2022-11-19T16:10:30.202247Z",
     "iopub.status.idle": "2022-11-19T16:10:30.207090Z",
     "shell.execute_reply": "2022-11-19T16:10:30.206009Z"
    },
    "papermill": {
     "duration": 0.048923,
     "end_time": "2022-11-19T16:10:30.209531",
     "exception": false,
     "start_time": "2022-11-19T16:10:30.160608",
     "status": "completed"
    },
    "tags": []
   },
   "outputs": [],
   "source": [
    "from operator import itemgetter"
   ]
  },
  {
   "cell_type": "markdown",
   "id": "4adcd9e6",
   "metadata": {
    "papermill": {
     "duration": 0.039892,
     "end_time": "2022-11-19T16:10:30.288137",
     "exception": false,
     "start_time": "2022-11-19T16:10:30.248245",
     "status": "completed"
    },
    "tags": []
   },
   "source": [
    "# WC Simulation\n",
    "\n",
    "The first thing is to create FIFA World Cup games. To do this, I'll get in the wikipedia the teams and group phase matches."
   ]
  },
  {
   "cell_type": "code",
   "execution_count": null,
   "id": "50c81d2f",
   "metadata": {
    "execution": {
     "iopub.execute_input": "2022-11-19T16:10:30.373035Z",
     "iopub.status.busy": "2022-11-19T16:10:30.371907Z",
     "iopub.status.idle": "2022-11-19T16:10:31.659870Z",
     "shell.execute_reply": "2022-11-19T16:10:31.658222Z"
    },
    "papermill": {
     "duration": 1.333926,
     "end_time": "2022-11-19T16:10:31.662760",
     "exception": false,
     "start_time": "2022-11-19T16:10:30.328834",
     "status": "completed"
    },
    "tags": []
   },
   "outputs": [],
   "source": [
    "dfs = pd.read_html(r\"https://en.wikipedia.org/wiki/2022_FIFA_World_Cup#Teams\")"
   ]
  },
  {
   "cell_type": "code",
   "execution_count": null,
   "id": "97c4e86f",
   "metadata": {
    "execution": {
     "iopub.execute_input": "2022-11-19T16:10:31.747076Z",
     "iopub.status.busy": "2022-11-19T16:10:31.746280Z",
     "iopub.status.idle": "2022-11-19T16:10:31.756908Z",
     "shell.execute_reply": "2022-11-19T16:10:31.755534Z"
    },
    "papermill": {
     "duration": 0.056632,
     "end_time": "2022-11-19T16:10:31.759863",
     "exception": false,
     "start_time": "2022-11-19T16:10:31.703231",
     "status": "completed"
    },
    "tags": []
   },
   "outputs": [],
   "source": [
    "from collections.abc import Iterable\n",
    "\n",
    "for i in range(len(dfs)):\n",
    "    df = dfs[i]\n",
    "    cols = list(df.columns.values)\n",
    "    \n",
    "    if isinstance(cols[0], Iterable):\n",
    "        if any(\"Tie-breaking criteria\" in c for c in cols):\n",
    "            start_pos = i+1\n",
    "\n",
    "        if any(\"Match 46\" in c for c in cols):\n",
    "            end_pos = i+1"
   ]
  },
  {
   "cell_type": "code",
   "execution_count": null,
   "id": "92166707",
   "metadata": {
    "execution": {
     "iopub.execute_input": "2022-11-19T16:10:31.842186Z",
     "iopub.status.busy": "2022-11-19T16:10:31.841721Z",
     "iopub.status.idle": "2022-11-19T16:10:31.854211Z",
     "shell.execute_reply": "2022-11-19T16:10:31.852991Z"
    },
    "papermill": {
     "duration": 0.056576,
     "end_time": "2022-11-19T16:10:31.857038",
     "exception": false,
     "start_time": "2022-11-19T16:10:31.800462",
     "status": "completed"
    },
    "tags": []
   },
   "outputs": [],
   "source": [
    "matches = []\n",
    "groups = [\"A\", \"B\", \"C\", \"D\", \"E\", \"F\", \"G\", \"H\"]\n",
    "group_count = 0 \n",
    "\n",
    "table = {}\n",
    "#TABLE -> TEAM, POINTS, WIN PROBS (CRITERIO DE DESEMPATE)\n",
    "table[groups[group_count]] = [[a.split(\" \")[0], 0, []] for a in list(dfs[start_pos].iloc[:, 1].values)]\n",
    "\n",
    "for i in range(start_pos+1, end_pos, 1):\n",
    "    if len(dfs[i].columns) == 3:\n",
    "        team_1 = dfs[i].columns.values[0]\n",
    "        team_2 = dfs[i].columns.values[-1]\n",
    "        \n",
    "        matches.append((groups[group_count], team_1, team_2))\n",
    "    else:\n",
    "        group_count+=1\n",
    "        table[groups[group_count]] = [[a, 0, []] for a in list(dfs[i].iloc[:, 1].values)]"
   ]
  },
  {
   "cell_type": "code",
   "execution_count": null,
   "id": "6f1a3559",
   "metadata": {
    "execution": {
     "iopub.execute_input": "2022-11-19T16:10:31.943107Z",
     "iopub.status.busy": "2022-11-19T16:10:31.942677Z",
     "iopub.status.idle": "2022-11-19T16:10:31.952185Z",
     "shell.execute_reply": "2022-11-19T16:10:31.951033Z"
    },
    "papermill": {
     "duration": 0.053055,
     "end_time": "2022-11-19T16:10:31.954686",
     "exception": false,
     "start_time": "2022-11-19T16:10:31.901631",
     "status": "completed"
    },
    "tags": []
   },
   "outputs": [],
   "source": [
    "table"
   ]
  },
  {
   "cell_type": "markdown",
   "id": "15394962",
   "metadata": {
    "papermill": {
     "duration": 0.040404,
     "end_time": "2022-11-19T16:10:32.032755",
     "exception": false,
     "start_time": "2022-11-19T16:10:31.992351",
     "status": "completed"
    },
    "tags": []
   },
   "source": [
    "Above, we also store the team's points at the group and its probabilities of win in each game. The mean of team's wins probabilities will be used as tiebreaker when two teams have the same number of points."
   ]
  },
  {
   "cell_type": "code",
   "execution_count": null,
   "id": "ee404177",
   "metadata": {
    "execution": {
     "iopub.execute_input": "2022-11-19T16:10:32.114376Z",
     "iopub.status.busy": "2022-11-19T16:10:32.113963Z",
     "iopub.status.idle": "2022-11-19T16:10:32.122031Z",
     "shell.execute_reply": "2022-11-19T16:10:32.120762Z"
    },
    "papermill": {
     "duration": 0.054031,
     "end_time": "2022-11-19T16:10:32.124596",
     "exception": false,
     "start_time": "2022-11-19T16:10:32.070565",
     "status": "completed"
    },
    "tags": []
   },
   "outputs": [],
   "source": [
    "matches[:10]"
   ]
  },
  {
   "cell_type": "markdown",
   "id": "474ccc7b",
   "metadata": {
    "papermill": {
     "duration": 0.042513,
     "end_time": "2022-11-19T16:10:32.207245",
     "exception": false,
     "start_time": "2022-11-19T16:10:32.164732",
     "status": "completed"
    },
    "tags": []
   },
   "source": [
    "I will use last game stats as the stats for each team involved in the game. Like, for Brazil vs Serbia, the stats of Brazil is the ones they had in the last game and for Serbia too."
   ]
  },
  {
   "cell_type": "code",
   "execution_count": null,
   "id": "e71e3755",
   "metadata": {
    "execution": {
     "iopub.execute_input": "2022-11-19T16:10:32.296621Z",
     "iopub.status.busy": "2022-11-19T16:10:32.296145Z",
     "iopub.status.idle": "2022-11-19T16:10:32.304751Z",
     "shell.execute_reply": "2022-11-19T16:10:32.303516Z"
    },
    "papermill": {
     "duration": 0.056459,
     "end_time": "2022-11-19T16:10:32.307501",
     "exception": false,
     "start_time": "2022-11-19T16:10:32.251042",
     "status": "completed"
    },
    "tags": []
   },
   "outputs": [],
   "source": [
    "def find_stats(team_1):\n",
    "#team_1 = \"Qatar\"\n",
    "    past_games = team_stats_raw[(team_stats_raw[\"team\"] == team_1)].sort_values(\"date\")\n",
    "    last5 = team_stats_raw[(team_stats_raw[\"team\"] == team_1)].sort_values(\"date\").tail(5)\n",
    "\n",
    "    team_1_rank = past_games[\"rank\"].values[-1]\n",
    "    team_1_goals = past_games.score.mean()\n",
    "    team_1_goals_l5 = last5.score.mean()\n",
    "    team_1_goals_suf = past_games.suf_score.mean()\n",
    "    team_1_goals_suf_l5 = last5.suf_score.mean()\n",
    "    team_1_rank_suf = past_games.rank_suf.mean()\n",
    "    team_1_rank_suf_l5 = last5.rank_suf.mean()\n",
    "    team_1_gp_rank = past_games.points_by_rank.mean()\n",
    "    team_1_gp_rank_l5 = last5.points_by_rank.mean()\n",
    "\n",
    "    return [team_1_rank, team_1_goals, team_1_goals_l5, team_1_goals_suf, team_1_goals_suf_l5, team_1_rank_suf, team_1_rank_suf_l5, team_1_gp_rank, team_1_gp_rank_l5]"
   ]
  },
  {
   "cell_type": "code",
   "execution_count": null,
   "id": "2b58c9f0",
   "metadata": {
    "execution": {
     "iopub.execute_input": "2022-11-19T16:10:32.398539Z",
     "iopub.status.busy": "2022-11-19T16:10:32.397872Z",
     "iopub.status.idle": "2022-11-19T16:10:32.409514Z",
     "shell.execute_reply": "2022-11-19T16:10:32.407123Z"
    },
    "papermill": {
     "duration": 0.060296,
     "end_time": "2022-11-19T16:10:32.412642",
     "exception": false,
     "start_time": "2022-11-19T16:10:32.352346",
     "status": "completed"
    },
    "tags": []
   },
   "outputs": [],
   "source": [
    "def find_features(team_1, team_2):\n",
    "    rank_dif = team_1[0] - team_2[0]\n",
    "    goals_dif = team_1[1] - team_2[1]\n",
    "    goals_dif_l5 = team_1[2] - team_2[2]\n",
    "    goals_suf_dif = team_1[3] - team_2[3]\n",
    "    goals_suf_dif_l5 = team_1[4] - team_2[4]\n",
    "    goals_per_ranking_dif = (team_1[1]/team_1[5]) - (team_2[1]/team_2[5])\n",
    "    dif_rank_agst = team_1[5] - team_2[5]\n",
    "    dif_rank_agst_l5 = team_1[6] - team_2[6]\n",
    "    dif_gp_rank = team_1[7] - team_2[7]\n",
    "    dif_gp_rank_l5 = team_1[8] - team_2[8]\n",
    "    \n",
    "    return [rank_dif, goals_dif, goals_dif_l5, goals_suf_dif, goals_suf_dif_l5, goals_per_ranking_dif, dif_rank_agst, dif_rank_agst_l5, dif_gp_rank, dif_gp_rank_l5, 1, 0]"
   ]
  },
  {
   "cell_type": "markdown",
   "id": "7303afd6",
   "metadata": {
    "papermill": {
     "duration": 0.039751,
     "end_time": "2022-11-19T16:10:32.494329",
     "exception": false,
     "start_time": "2022-11-19T16:10:32.454578",
     "status": "completed"
    },
    "tags": []
   },
   "source": [
    "Now, we are able to simulate.\n",
    "\n",
    "Since the model simulates if team 1 will win or not win, it's needed to create some criteria to define a draw. Also, since we have not home advantage at World Cup, the idea is to predict game two times, changing team 1 and team 2. The team with the highest mean of probabilities will be assigned as winner. At the group phase, if \"home team\" win as team 1 and loses as team 2, or if \"home team\" win as team 2 and loses at team 1, there will be assigned a draw in that match."
   ]
  },
  {
   "cell_type": "code",
   "execution_count": null,
   "id": "4af088f1",
   "metadata": {
    "execution": {
     "iopub.execute_input": "2022-11-19T16:10:32.580253Z",
     "iopub.status.busy": "2022-11-19T16:10:32.579839Z",
     "iopub.status.idle": "2022-11-19T16:10:33.121482Z",
     "shell.execute_reply": "2022-11-19T16:10:33.119779Z"
    },
    "papermill": {
     "duration": 0.586871,
     "end_time": "2022-11-19T16:10:33.124384",
     "exception": false,
     "start_time": "2022-11-19T16:10:32.537513",
     "status": "completed"
    },
    "tags": []
   },
   "outputs": [],
   "source": [
    "advanced_group = []\n",
    "last_group = \"\"\n",
    "\n",
    "for k in table.keys():\n",
    "    for t in table[k]:\n",
    "        t[1] = 0\n",
    "        t[2] = []\n",
    "        \n",
    "for teams in matches:\n",
    "    draw = False\n",
    "    team_1 = find_stats(teams[1])\n",
    "    team_2 = find_stats(teams[2])\n",
    "\n",
    "    \n",
    "\n",
    "    features_g1 = find_features(team_1, team_2)\n",
    "    features_g2 = find_features(team_2, team_1)\n",
    "\n",
    "    probs_g1 = gb.predict_proba([features_g1])\n",
    "    probs_g2 = gb.predict_proba([features_g2])\n",
    "    \n",
    "    team_1_prob_g1 = probs_g1[0][0]\n",
    "    team_1_prob_g2 = probs_g2[0][1]\n",
    "    team_2_prob_g1 = probs_g1[0][1]\n",
    "    team_2_prob_g2 = probs_g2[0][0]\n",
    "\n",
    "    team_1_prob = (probs_g1[0][0] + probs_g2[0][1])/2\n",
    "    team_2_prob = (probs_g2[0][0] + probs_g1[0][1])/2\n",
    "    \n",
    "    if ((team_1_prob_g1 > team_2_prob_g1) & (team_2_prob_g2 > team_1_prob_g2)) | ((team_1_prob_g1 < team_2_prob_g1) & (team_2_prob_g2 < team_1_prob_g2)):\n",
    "        draw=True\n",
    "        for i in table[teams[0]]:\n",
    "            if i[0] == teams[1] or i[0] == teams[2]:\n",
    "                i[1] += 1\n",
    "                \n",
    "    elif team_1_prob > team_2_prob:\n",
    "        winner = teams[1]\n",
    "        winner_proba = team_1_prob\n",
    "        for i in table[teams[0]]:\n",
    "            if i[0] == teams[1]:\n",
    "                i[1] += 3\n",
    "                \n",
    "    elif team_2_prob > team_1_prob:  \n",
    "        winner = teams[2]\n",
    "        winner_proba = team_2_prob\n",
    "        for i in table[teams[0]]:\n",
    "            if i[0] == teams[2]:\n",
    "                i[1] += 3\n",
    "    \n",
    "    for i in table[teams[0]]: #adding criterio de desempate (probs por jogo)\n",
    "            if i[0] == teams[1]:\n",
    "                i[2].append(team_1_prob)\n",
    "            if i[0] == teams[2]:\n",
    "                i[2].append(team_2_prob)\n",
    "\n",
    "    if last_group != teams[0]:\n",
    "        if last_group != \"\":\n",
    "            print(\"\\n\")\n",
    "            print(\"Group %s advanced: \"%(last_group))\n",
    "            \n",
    "            for i in table[last_group]: #adding crieterio de desempate\n",
    "                i[2] = np.mean(i[2])\n",
    "            \n",
    "            final_points = table[last_group]\n",
    "            final_table = sorted(final_points, key=itemgetter(1, 2), reverse = True)\n",
    "            advanced_group.append([final_table[0][0], final_table[1][0]])\n",
    "            for i in final_table:\n",
    "                print(\"%s -------- %d\"%(i[0], i[1]))\n",
    "        print(\"\\n\")\n",
    "        print(\"-\"*10+\" Starting Analysis for Group %s \"%(teams[0])+\"-\"*10)\n",
    "        \n",
    "        \n",
    "    if draw == False:\n",
    "        print(\"Group %s - %s vs. %s: Winner %s with %.2f probability\"%(teams[0], teams[1], teams[2], winner, winner_proba))\n",
    "    else:\n",
    "        print(\"Group %s - %s vs. %s: Draw\"%(teams[0], teams[1], teams[2]))\n",
    "    last_group =  teams[0]\n",
    "\n",
    "print(\"\\n\")\n",
    "print(\"Group %s advanced: \"%(last_group))\n",
    "\n",
    "for i in table[last_group]: #adding crieterio de desempate\n",
    "    i[2] = np.mean(i[2])\n",
    "            \n",
    "final_points = table[last_group]\n",
    "final_table = sorted(final_points, key=itemgetter(1, 2), reverse = True)\n",
    "advanced_group.append([final_table[0][0], final_table[1][0]])\n",
    "for i in final_table:\n",
    "    print(\"%s -------- %d\"%(i[0], i[1]))"
   ]
  },
  {
   "cell_type": "markdown",
   "id": "9dee1745",
   "metadata": {
    "papermill": {
     "duration": 0.0383,
     "end_time": "2022-11-19T16:10:33.202674",
     "exception": false,
     "start_time": "2022-11-19T16:10:33.164374",
     "status": "completed"
    },
    "tags": []
   },
   "source": [
    "The group phase predicted no surprises, or maybe the draw between Brazil and Switzerland or France and Denmark. For the playoffs phase, I'll predict and show it graphically as made [here](https://www.kaggle.com/code/agostontorok/soccer-world-cup-2018-winner). "
   ]
  },
  {
   "cell_type": "code",
   "execution_count": null,
   "id": "918d57ac",
   "metadata": {
    "execution": {
     "iopub.execute_input": "2022-11-19T16:10:33.284812Z",
     "iopub.status.busy": "2022-11-19T16:10:33.284308Z",
     "iopub.status.idle": "2022-11-19T16:10:33.289786Z",
     "shell.execute_reply": "2022-11-19T16:10:33.288430Z"
    },
    "papermill": {
     "duration": 0.050597,
     "end_time": "2022-11-19T16:10:33.292738",
     "exception": false,
     "start_time": "2022-11-19T16:10:33.242141",
     "status": "completed"
    },
    "tags": []
   },
   "outputs": [],
   "source": [
    "advanced = advanced_group"
   ]
  },
  {
   "cell_type": "code",
   "execution_count": null,
   "id": "c3bfad3a",
   "metadata": {
    "execution": {
     "iopub.execute_input": "2022-11-19T16:10:33.380602Z",
     "iopub.status.busy": "2022-11-19T16:10:33.379844Z",
     "iopub.status.idle": "2022-11-19T16:10:33.386011Z",
     "shell.execute_reply": "2022-11-19T16:10:33.384955Z"
    },
    "papermill": {
     "duration": 0.054039,
     "end_time": "2022-11-19T16:10:33.388593",
     "exception": false,
     "start_time": "2022-11-19T16:10:33.334554",
     "status": "completed"
    },
    "tags": []
   },
   "outputs": [],
   "source": [
    "playoffs = {\"Round of 16\": [], \"Quarter-Final\": [], \"Semi-Final\": [], \"Final\": []}"
   ]
  },
  {
   "cell_type": "code",
   "execution_count": null,
   "id": "2b4f9b86",
   "metadata": {
    "execution": {
     "iopub.execute_input": "2022-11-19T16:10:33.547144Z",
     "iopub.status.busy": "2022-11-19T16:10:33.546482Z",
     "iopub.status.idle": "2022-11-19T16:10:33.719719Z",
     "shell.execute_reply": "2022-11-19T16:10:33.718437Z"
    },
    "papermill": {
     "duration": 0.215775,
     "end_time": "2022-11-19T16:10:33.722309",
     "exception": false,
     "start_time": "2022-11-19T16:10:33.506534",
     "status": "completed"
    },
    "tags": []
   },
   "outputs": [],
   "source": [
    "for p in playoffs.keys():\n",
    "    playoffs[p] = []\n",
    "\n",
    "actual_round = \"\"\n",
    "next_rounds = []\n",
    "\n",
    "for p in playoffs.keys():\n",
    "    if p == \"Round of 16\":\n",
    "        control = []\n",
    "        for a in range(0, len(advanced*2), 1):\n",
    "            if a < len(advanced):\n",
    "                if a % 2 == 0:\n",
    "                    control.append((advanced*2)[a][0])\n",
    "                else:\n",
    "                    control.append((advanced*2)[a][1])\n",
    "            else:\n",
    "                if a % 2 == 0:\n",
    "                    control.append((advanced*2)[a][1])\n",
    "                else:\n",
    "                    control.append((advanced*2)[a][0])\n",
    "\n",
    "        playoffs[p] = [[control[c], control[c+1]] for c in range(0, len(control)-1, 1) if c%2 == 0]\n",
    "        \n",
    "        for i in range(0, len(playoffs[p]), 1):\n",
    "            game = playoffs[p][i]\n",
    "            \n",
    "            home = game[0]\n",
    "            away = game[1]\n",
    "            team_1 = find_stats(home)\n",
    "            team_2 = find_stats(away)\n",
    "\n",
    "            features_g1 = find_features(team_1, team_2)\n",
    "            features_g2 = find_features(team_2, team_1)\n",
    "            \n",
    "            probs_g1 = gb.predict_proba([features_g1])\n",
    "            probs_g2 = gb.predict_proba([features_g2])\n",
    "            \n",
    "            team_1_prob = (probs_g1[0][0] + probs_g2[0][1])/2\n",
    "            team_2_prob = (probs_g2[0][0] + probs_g1[0][1])/2\n",
    "            \n",
    "            if actual_round != p:\n",
    "                print(\"-\"*10)\n",
    "                print(\"Starting simulation of %s\"%(p))\n",
    "                print(\"-\"*10)\n",
    "                print(\"\\n\")\n",
    "            \n",
    "            if team_1_prob < team_2_prob:\n",
    "                print(\"%s vs. %s: %s advances with prob %.2f\"%(home, away, away, team_2_prob))\n",
    "                next_rounds.append(away)\n",
    "            else:\n",
    "                print(\"%s vs. %s: %s advances with prob %.2f\"%(home, away, home, team_1_prob))\n",
    "                next_rounds.append(home)\n",
    "            \n",
    "            game.append([team_1_prob, team_2_prob])\n",
    "            playoffs[p][i] = game\n",
    "            actual_round = p\n",
    "        \n",
    "    else:\n",
    "        playoffs[p] = [[next_rounds[c], next_rounds[c+1]] for c in range(0, len(next_rounds)-1, 1) if c%2 == 0]\n",
    "        next_rounds = []\n",
    "        for i in range(0, len(playoffs[p])):\n",
    "            game = playoffs[p][i]\n",
    "            home = game[0]\n",
    "            away = game[1]\n",
    "            team_1 = find_stats(home)\n",
    "            team_2 = find_stats(away)\n",
    "            \n",
    "            features_g1 = find_features(team_1, team_2)\n",
    "            features_g2 = find_features(team_2, team_1)\n",
    "            \n",
    "            probs_g1 = gb.predict_proba([features_g1])\n",
    "            probs_g2 = gb.predict_proba([features_g2])\n",
    "            \n",
    "            team_1_prob = (probs_g1[0][0] + probs_g2[0][1])/2\n",
    "            team_2_prob = (probs_g2[0][0] + probs_g1[0][1])/2\n",
    "            \n",
    "            if actual_round != p:\n",
    "                print(\"-\"*10)\n",
    "                print(\"Starting simulation of %s\"%(p))\n",
    "                print(\"-\"*10)\n",
    "                print(\"\\n\")\n",
    "            \n",
    "            if team_1_prob < team_2_prob:\n",
    "                print(\"%s vs. %s: %s advances with prob %.2f\"%(home, away, away, team_2_prob))\n",
    "                next_rounds.append(away)\n",
    "            else:\n",
    "                print(\"%s vs. %s: %s advances with prob %.2f\"%(home, away, home, team_1_prob))\n",
    "                next_rounds.append(home)\n",
    "            game.append([team_1_prob, team_2_prob])\n",
    "            playoffs[p][i] = game\n",
    "            actual_round = p\n",
    "            "
   ]
  },
  {
   "cell_type": "code",
   "execution_count": null,
   "id": "12e3db46",
   "metadata": {
    "execution": {
     "iopub.execute_input": "2022-11-19T16:10:33.803377Z",
     "iopub.status.busy": "2022-11-19T16:10:33.802741Z",
     "iopub.status.idle": "2022-11-19T16:10:34.233065Z",
     "shell.execute_reply": "2022-11-19T16:10:34.231529Z"
    },
    "papermill": {
     "duration": 0.47308,
     "end_time": "2022-11-19T16:10:34.235892",
     "exception": false,
     "start_time": "2022-11-19T16:10:33.762812",
     "status": "completed"
    },
    "tags": []
   },
   "outputs": [],
   "source": [
    "import networkx as nx\n",
    "from networkx.drawing.nx_pydot import graphviz_layout"
   ]
  },
  {
   "cell_type": "code",
   "execution_count": null,
   "id": "853e0b4e",
   "metadata": {
    "execution": {
     "iopub.execute_input": "2022-11-19T16:10:34.319866Z",
     "iopub.status.busy": "2022-11-19T16:10:34.319445Z",
     "iopub.status.idle": "2022-11-19T16:10:36.466323Z",
     "shell.execute_reply": "2022-11-19T16:10:36.464968Z"
    },
    "papermill": {
     "duration": 2.192244,
     "end_time": "2022-11-19T16:10:36.469773",
     "exception": false,
     "start_time": "2022-11-19T16:10:34.277529",
     "status": "completed"
    },
    "tags": []
   },
   "outputs": [],
   "source": [
    "plt.figure(figsize=(15, 10))\n",
    "G = nx.balanced_tree(2, 3)\n",
    "\n",
    "\n",
    "labels = []\n",
    "\n",
    "\n",
    "for p in playoffs.keys():\n",
    "    for game in playoffs[p]:\n",
    "        label = f\"{game[0]}({round(game[2][0], 2)}) \\n {game[1]}({round(game[2][1], 2)})\"\n",
    "        labels.append(label)\n",
    "    \n",
    "labels_dict = {}\n",
    "labels_rev = list(reversed(labels))\n",
    "\n",
    "for l in range(len(list(G.nodes))):\n",
    "    labels_dict[l] = labels_rev[l]\n",
    "\n",
    "pos = graphviz_layout(G, prog='twopi')\n",
    "labels_pos = {n: (k[0], k[1]-0.08*k[1]) for n,k in pos.items()}\n",
    "center  = pd.DataFrame(pos).mean(axis=1).mean()\n",
    "    \n",
    "\n",
    "nx.draw(G, pos = pos, with_labels=False, node_color=range(15), edge_color=\"#bbf5bb\", width=10, font_weight='bold',cmap=plt.cm.Greens, node_size=5000)\n",
    "nx.draw_networkx_labels(G, pos = labels_pos, bbox=dict(boxstyle=\"round,pad=0.3\", fc=\"white\", ec=\"black\", lw=.5, alpha=1),\n",
    "                        labels=labels_dict)\n",
    "texts = [\"Round \\nof 16\", \"Quarter \\n Final\", \"Semi \\n Final\", \"Final\\n\"]\n",
    "pos_y = pos[0][1] + 55\n",
    "for text in reversed(texts):\n",
    "    pos_x = center\n",
    "    pos_y -= 75 \n",
    "    plt.text(pos_y, pos_x, text, fontsize = 18)\n",
    "\n",
    "plt.axis('equal')\n",
    "plt.show()"
   ]
  },
  {
   "cell_type": "markdown",
   "id": "192e8dd5",
   "metadata": {
    "papermill": {
     "duration": 0.040138,
     "end_time": "2022-11-19T16:10:36.550527",
     "exception": false,
     "start_time": "2022-11-19T16:10:36.510389",
     "status": "completed"
    },
    "tags": []
   },
   "source": [
    "And that's the final simulation! Brazil has won the 6th title! Hoping that my predictions are correct now. \n",
    "\n",
    "It's nice to analyze too the possible upsets. Belgium passed against Germany, and were defeated by Portugal. Argentina - Netherlands game is very tight, with Netherlands passing by nearly 1%. The same happens between France and England, with England passing. I think England as finalist was the biggest upset of the simulation.\n",
    "\n",
    "Update: the databases were updated with the last friendlies that national teams played before the World Cup, and, with that, some simulations changed. France now beats England at quarter-final, and they are defeated by Portugal in the semis! Portugal at the finals is a huge surprise! \n",
    "\n",
    "# Conclusion\n",
    "\n",
    "The goal of this was to improve my knowledge with Machine Learning simulating something that I love (Football World Cup). I think that's amazing to create models that we can see the result in real life, and that's what is going to happen!\n",
    "\n",
    "In general, I think that the model predicted like the common sense of people who watch football. There are not huge surprises in the simulation. It's also nice to see games with teams that are more unkown in group phase, like Iran vs. Wales or Senegal vs. Ecuador. I think that in games like that, the model is a good guidance to betting, since the knowledge of most people second tier national teams is not great."
   ]
  },
  {
   "cell_type": "code",
   "execution_count": null,
   "id": "e2a52b68",
   "metadata": {
    "papermill": {
     "duration": 0.040107,
     "end_time": "2022-11-19T16:10:36.631422",
     "exception": false,
     "start_time": "2022-11-19T16:10:36.591315",
     "status": "completed"
    },
    "tags": []
   },
   "outputs": [],
   "source": []
  }
 ],
 "metadata": {
  "kernelspec": {
   "display_name": "Python 3",
   "language": "python",
   "name": "orchest-kernel-ba3699f2-50ab-4fda-a74b-b0de3183719c"
  },
  "language_info": {
   "codemirror_mode": {
    "name": "ipython",
    "version": 3
   },
   "file_extension": ".py",
   "mimetype": "text/x-python",
   "name": "python",
   "nbconvert_exporter": "python",
   "pygments_lexer": "ipython3",
   "version": "3.7.12"
  },
  "papermill": {
   "default_parameters": {},
   "duration": 130.639007,
   "end_time": "2022-11-19T16:10:39.296246",
   "environment_variables": {},
   "exception": null,
   "input_path": "__notebook__.ipynb",
   "output_path": "__notebook__.ipynb",
   "parameters": {},
   "start_time": "2022-11-19T16:08:28.657239",
   "version": "2.3.4"
  }
 },
 "nbformat": 4,
 "nbformat_minor": 5
}
