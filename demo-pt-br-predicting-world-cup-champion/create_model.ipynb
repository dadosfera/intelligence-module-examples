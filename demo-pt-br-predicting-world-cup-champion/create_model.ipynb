{
 "cells": [
  {
   "cell_type": "markdown",
   "id": "ba42f85b",
   "metadata": {
    "papermill": {
     "duration": 0.025069,
     "end_time": "2022-11-19T16:08:38.723147",
     "exception": false,
     "start_time": "2022-11-19T16:08:38.698078",
     "status": "completed"
    },
    "tags": []
   },
   "source": [
    "# Criação do Modelo de Predição\n",
    "\n",
    "> Neste notebook iremos criar um modelo de predição dos resultados da Copa do Mundo de 2022"
   ]
  },
  {
   "cell_type": "code",
   "execution_count": 1,
   "id": "29f9c2e4-46ce-4cf5-aaaf-035c5150f84b",
   "metadata": {
    "execution": {
     "iopub.execute_input": "2022-12-08T19:24:51.523275Z",
     "iopub.status.busy": "2022-12-08T19:24:51.522249Z",
     "iopub.status.idle": "2022-12-08T19:24:55.674272Z",
     "shell.execute_reply": "2022-12-08T19:24:55.673334Z"
    },
    "tags": []
   },
   "outputs": [],
   "source": [
    "# Importando bibliotecas necessárias\n",
    "from dadosfera import *\n",
    "import snowflake.connector\n",
    "import pandas as pd\n",
    "import numpy as np\n",
    "import os\n",
    "import matplotlib.pyplot as plt\n",
    "from sklearn.ensemble import GradientBoostingClassifier\n",
    "from sklearn.model_selection import train_test_split, GridSearchCV\n",
    "from sklearn.metrics import confusion_matrix, roc_curve, roc_auc_score\n",
    "from operator import itemgetter\n",
    "import seaborn as sns"
   ]
  },
  {
   "cell_type": "markdown",
   "id": "8e225b6b-0364-4010-8d84-14286f6da1b7",
   "metadata": {},
   "source": [
    "### 1. Recuperar dados do passo anterior"
   ]
  },
  {
   "cell_type": "code",
   "execution_count": 2,
   "id": "f77993ba-854c-401e-9241-5fb657513864",
   "metadata": {
    "execution": {
     "iopub.execute_input": "2022-12-08T19:24:55.716417Z",
     "iopub.status.busy": "2022-12-08T19:24:55.714624Z",
     "iopub.status.idle": "2022-12-08T19:24:55.778823Z",
     "shell.execute_reply": "2022-12-08T19:24:55.777052Z"
    },
    "tags": []
   },
   "outputs": [
    {
     "data": {
      "text/html": [
       "<div>\n",
       "<style scoped>\n",
       "    .dataframe tbody tr th:only-of-type {\n",
       "        vertical-align: middle;\n",
       "    }\n",
       "\n",
       "    .dataframe tbody tr th {\n",
       "        vertical-align: top;\n",
       "    }\n",
       "\n",
       "    .dataframe thead th {\n",
       "        text-align: right;\n",
       "    }\n",
       "</style>\n",
       "<table border=\"1\" class=\"dataframe\">\n",
       "  <thead>\n",
       "    <tr style=\"text-align: right;\">\n",
       "      <th></th>\n",
       "      <th>home_team</th>\n",
       "      <th>away_team</th>\n",
       "      <th>target</th>\n",
       "      <th>rank_dif</th>\n",
       "      <th>goals_dif</th>\n",
       "      <th>goals_dif_l5</th>\n",
       "      <th>goals_suf_dif</th>\n",
       "      <th>goals_suf_dif_l5</th>\n",
       "      <th>goals_per_ranking_dif</th>\n",
       "      <th>dif_rank_agst</th>\n",
       "      <th>dif_rank_agst_l5</th>\n",
       "      <th>dif_points_rank</th>\n",
       "      <th>dif_points_rank_l5</th>\n",
       "      <th>is_friendly_0</th>\n",
       "      <th>is_friendly_1</th>\n",
       "    </tr>\n",
       "  </thead>\n",
       "  <tbody>\n",
       "    <tr>\n",
       "      <th>2</th>\n",
       "      <td>Burkina Faso</td>\n",
       "      <td>Mali</td>\n",
       "      <td>0</td>\n",
       "      <td>28.0</td>\n",
       "      <td>0.0</td>\n",
       "      <td>0.0</td>\n",
       "      <td>0.0</td>\n",
       "      <td>0.0</td>\n",
       "      <td>-0.007459</td>\n",
       "      <td>16.0</td>\n",
       "      <td>16.0</td>\n",
       "      <td>-0.007459</td>\n",
       "      <td>-0.007459</td>\n",
       "      <td>0</td>\n",
       "      <td>1</td>\n",
       "    </tr>\n",
       "    <tr>\n",
       "      <th>3</th>\n",
       "      <td>Gabon</td>\n",
       "      <td>Ghana</td>\n",
       "      <td>1</td>\n",
       "      <td>16.0</td>\n",
       "      <td>0.0</td>\n",
       "      <td>0.0</td>\n",
       "      <td>0.0</td>\n",
       "      <td>0.0</td>\n",
       "      <td>-0.004183</td>\n",
       "      <td>28.0</td>\n",
       "      <td>28.0</td>\n",
       "      <td>-0.004183</td>\n",
       "      <td>-0.004183</td>\n",
       "      <td>0</td>\n",
       "      <td>1</td>\n",
       "    </tr>\n",
       "    <tr>\n",
       "      <th>10</th>\n",
       "      <td>Uganda</td>\n",
       "      <td>Tanzania</td>\n",
       "      <td>0</td>\n",
       "      <td>12.0</td>\n",
       "      <td>2.0</td>\n",
       "      <td>2.0</td>\n",
       "      <td>-2.0</td>\n",
       "      <td>-2.0</td>\n",
       "      <td>0.026630</td>\n",
       "      <td>-12.0</td>\n",
       "      <td>-12.0</td>\n",
       "      <td>0.037500</td>\n",
       "      <td>0.037500</td>\n",
       "      <td>0</td>\n",
       "      <td>1</td>\n",
       "    </tr>\n",
       "    <tr>\n",
       "      <th>18</th>\n",
       "      <td>Togo</td>\n",
       "      <td>Zimbabwe</td>\n",
       "      <td>1</td>\n",
       "      <td>47.0</td>\n",
       "      <td>-1.0</td>\n",
       "      <td>-1.0</td>\n",
       "      <td>-1.0</td>\n",
       "      <td>-1.0</td>\n",
       "      <td>-0.009804</td>\n",
       "      <td>-23.0</td>\n",
       "      <td>-23.0</td>\n",
       "      <td>0.002854</td>\n",
       "      <td>0.002854</td>\n",
       "      <td>1</td>\n",
       "      <td>0</td>\n",
       "    </tr>\n",
       "    <tr>\n",
       "      <th>23</th>\n",
       "      <td>Cameroon</td>\n",
       "      <td>Finland</td>\n",
       "      <td>1</td>\n",
       "      <td>-22.0</td>\n",
       "      <td>0.0</td>\n",
       "      <td>0.0</td>\n",
       "      <td>0.0</td>\n",
       "      <td>0.0</td>\n",
       "      <td>0.000000</td>\n",
       "      <td>-39.0</td>\n",
       "      <td>-39.0</td>\n",
       "      <td>0.002622</td>\n",
       "      <td>0.002622</td>\n",
       "      <td>1</td>\n",
       "      <td>0</td>\n",
       "    </tr>\n",
       "  </tbody>\n",
       "</table>\n",
       "</div>"
      ],
      "text/plain": [
       "       home_team away_team  target  rank_dif  goals_dif  goals_dif_l5  \\\n",
       "2   Burkina Faso      Mali       0      28.0        0.0           0.0   \n",
       "3          Gabon     Ghana       1      16.0        0.0           0.0   \n",
       "10        Uganda  Tanzania       0      12.0        2.0           2.0   \n",
       "18          Togo  Zimbabwe       1      47.0       -1.0          -1.0   \n",
       "23      Cameroon   Finland       1     -22.0        0.0           0.0   \n",
       "\n",
       "    goals_suf_dif  goals_suf_dif_l5  goals_per_ranking_dif  dif_rank_agst  \\\n",
       "2             0.0               0.0              -0.007459           16.0   \n",
       "3             0.0               0.0              -0.004183           28.0   \n",
       "10           -2.0              -2.0               0.026630          -12.0   \n",
       "18           -1.0              -1.0              -0.009804          -23.0   \n",
       "23            0.0               0.0               0.000000          -39.0   \n",
       "\n",
       "    dif_rank_agst_l5  dif_points_rank  dif_points_rank_l5  is_friendly_0  \\\n",
       "2               16.0        -0.007459           -0.007459              0   \n",
       "3               28.0        -0.004183           -0.004183              0   \n",
       "10             -12.0         0.037500            0.037500              0   \n",
       "18             -23.0         0.002854            0.002854              1   \n",
       "23             -39.0         0.002622            0.002622              1   \n",
       "\n",
       "    is_friendly_1  \n",
       "2               1  \n",
       "3               1  \n",
       "10              1  \n",
       "18              0  \n",
       "23              0  "
      ]
     },
     "execution_count": 2,
     "metadata": {},
     "output_type": "execute_result"
    }
   ],
   "source": [
    "# Recuperando dados do passo anterior\n",
    "data = dadosfera_utils.get_inputs() \n",
    "\n",
    "df = data['dict_df']['model_db']\n",
    "team_stats_raw = data['dict_df']['team_stats_raw']\n",
    "\n",
    "df.head()"
   ]
  },
  {
   "cell_type": "markdown",
   "id": "3dca01ea",
   "metadata": {
    "papermill": {
     "duration": 0.035201,
     "end_time": "2022-11-19T16:09:23.465988",
     "exception": false,
     "start_time": "2022-11-19T16:09:23.430787",
     "status": "completed"
    },
    "tags": []
   },
   "source": [
    "### 2. Criar o modelo preditivo com o classificador Gradient Boosting\n",
    "\n",
    "#### **O que é Gradient Boosting?**'\n",
    "    Gradient Boosting é uma técnica de Machine Learning muito utilizada para regressão e classificação. Ela busca melhorar o resultado da predição ao utilizar diversos classificadores simples, como árvores de decisão, sempre escolhendo os classificadores que obtiveram os melhores desempenhos em cada caso."
   ]
  },
  {
   "cell_type": "markdown",
   "id": "a279575c-c30d-4143-9596-450204055499",
   "metadata": {},
   "source": [
    "Para entender o desempenho do modelo, iremos dividir aleatoriamente o nosso conjunto de dados na seguinte proporção: 80% treinamento e 20% teste."
   ]
  },
  {
   "cell_type": "code",
   "execution_count": 3,
   "id": "8d9cb413",
   "metadata": {
    "execution": {
     "iopub.execute_input": "2022-12-08T19:24:55.823064Z",
     "iopub.status.busy": "2022-12-08T19:24:55.822696Z",
     "iopub.status.idle": "2022-12-08T19:24:55.842161Z",
     "shell.execute_reply": "2022-12-08T19:24:55.840431Z"
    },
    "papermill": {
     "duration": 0.047587,
     "end_time": "2022-11-19T16:09:24.167493",
     "exception": false,
     "start_time": "2022-11-19T16:09:24.119906",
     "status": "completed"
    },
    "tags": []
   },
   "outputs": [],
   "source": [
    "X = df.iloc[:, 3:]\n",
    "y = df[[\"target\"]]\n",
    "\n",
    "X_train, X_test, y_train, y_test = train_test_split(X, y, test_size= 0.2, random_state=1)"
   ]
  },
  {
   "cell_type": "markdown",
   "id": "669055e1-7b99-4f29-a470-83b7e93236db",
   "metadata": {},
   "source": [
    "Definiremos a seguir o modelo e utilizaremos os dados de treinamento para treinar o nosso modelo."
   ]
  },
  {
   "cell_type": "code",
   "execution_count": 4,
   "id": "63ba8e43",
   "metadata": {
    "execution": {
     "iopub.execute_input": "2022-12-08T19:24:55.878996Z",
     "iopub.status.busy": "2022-12-08T19:24:55.878534Z",
     "iopub.status.idle": "2022-12-08T19:31:57.135610Z",
     "shell.execute_reply": "2022-12-08T19:31:57.133465Z"
    },
    "papermill": {
     "duration": 60.162278,
     "end_time": "2022-11-19T16:10:24.365027",
     "exception": false,
     "start_time": "2022-11-19T16:09:24.202749",
     "status": "completed"
    },
    "tags": []
   },
   "outputs": [
    {
     "data": {
      "text/plain": [
       "GridSearchCV(cv=3, estimator=GradientBoostingClassifier(random_state=5),\n",
       "             n_jobs=-1,\n",
       "             param_grid={'learning_rate': [0.01, 0.1, 0.5],\n",
       "                         'max_depth': [3, 5, 10], 'max_features': ['sqrt'],\n",
       "                         'min_samples_leaf': [3, 5],\n",
       "                         'min_samples_split': [5, 10],\n",
       "                         'n_estimators': [100, 200]},\n",
       "             verbose=False)"
      ]
     },
     "execution_count": 4,
     "metadata": {},
     "output_type": "execute_result"
    }
   ],
   "source": [
    "gb = GradientBoostingClassifier(random_state=5)\n",
    "\n",
    "params = {\"learning_rate\": [0.01, 0.1, 0.5],\n",
    "            \"min_samples_split\": [5, 10],\n",
    "            \"min_samples_leaf\": [3, 5],\n",
    "            \"max_depth\":[3,5,10],\n",
    "            \"max_features\":[\"sqrt\"],\n",
    "            \"n_estimators\":[100, 200]} \n",
    "\n",
    "gb_cv = GridSearchCV(gb, params, cv = 3, n_jobs = -1, verbose = False)\n",
    "\n",
    "gb_cv.fit(X_train.values, np.ravel(y_train))"
   ]
  },
  {
   "cell_type": "code",
   "execution_count": 5,
   "id": "c5c3f358",
   "metadata": {
    "execution": {
     "iopub.execute_input": "2022-12-08T19:31:57.161501Z",
     "iopub.status.busy": "2022-12-08T19:31:57.160795Z",
     "iopub.status.idle": "2022-12-08T19:31:57.168036Z",
     "shell.execute_reply": "2022-12-08T19:31:57.166653Z"
    },
    "papermill": {
     "duration": 0.050274,
     "end_time": "2022-11-19T16:10:24.452416",
     "exception": false,
     "start_time": "2022-11-19T16:10:24.402142",
     "status": "completed"
    },
    "tags": []
   },
   "outputs": [],
   "source": [
    "gb = gb_cv.best_estimator_"
   ]
  },
  {
   "cell_type": "code",
   "execution_count": 6,
   "id": "8c325840",
   "metadata": {
    "execution": {
     "iopub.execute_input": "2022-12-08T19:31:57.191922Z",
     "iopub.status.busy": "2022-12-08T19:31:57.190935Z",
     "iopub.status.idle": "2022-12-08T19:31:57.205394Z",
     "shell.execute_reply": "2022-12-08T19:31:57.203336Z"
    },
    "papermill": {
     "duration": 0.047756,
     "end_time": "2022-11-19T16:10:24.536346",
     "exception": false,
     "start_time": "2022-11-19T16:10:24.488590",
     "status": "completed"
    },
    "tags": []
   },
   "outputs": [
    {
     "data": {
      "text/plain": [
       "GradientBoostingClassifier(max_features='sqrt', min_samples_leaf=5,\n",
       "                           min_samples_split=5, random_state=5)"
      ]
     },
     "execution_count": 6,
     "metadata": {},
     "output_type": "execute_result"
    }
   ],
   "source": [
    "gb"
   ]
  },
  {
   "cell_type": "markdown",
   "id": "d140257b-8762-4e73-8ff9-6d1c489c4ed3",
   "metadata": {},
   "source": [
    "### 3. Avaliar resultado do modelo\n",
    "Para avaliar o resultado do nosso modelo, iremos utilizar a curva ROC e a matriz de confusão, que serão descritas logo abaixo."
   ]
  },
  {
   "cell_type": "code",
   "execution_count": 15,
   "id": "c48fde13",
   "metadata": {
    "papermill": {
     "duration": 0.052479,
     "end_time": "2022-11-19T16:10:28.042290",
     "exception": false,
     "start_time": "2022-11-19T16:10:27.989811",
     "status": "completed"
    },
    "tags": []
   },
   "outputs": [],
   "source": [
    "def plot_auc(model):\n",
    "    fpr, tpr, _ = roc_curve(y_test, model.predict_proba(X_test.values)[:,1]) #test AUC\n",
    "    plt.figure(figsize=(5,4))\n",
    "    plt.plot([0, 1], [0, 1], 'k--')\n",
    "    plt.plot(fpr, tpr, label=\"test\")\n",
    "\n",
    "    fpr_train, tpr_train, _ = roc_curve(y_train, model.predict_proba(X_train.values)[:,1]) #train AUC\n",
    "    plt.plot(fpr_train, tpr_train, label=\"train\")\n",
    "    auc_test = roc_auc_score(y_test, model.predict_proba(X_test.values)[:,1])\n",
    "    auc_train = roc_auc_score(y_train, model.predict_proba(X_train.values)[:,1])\n",
    "    plt.legend()\n",
    "    plt.title('Curva ROC')\n",
    "    print('AUC score é %.2f em dados de teste e %.2f em dados de treinamento.'%(auc_test, auc_train))\n",
    "    plt.show()\n",
    "    \n",
    "def plot_conf_matrix(model):\n",
    "    fig, ax = plt.subplots(figsize=(5,4))\n",
    "    cm = confusion_matrix(y_test, model.predict(X_test.values))\n",
    "    sns.heatmap(cm, annot=True, fmt=\"d\", cmap=\"Blues\")\n",
    "\n",
    "    ax.xaxis.set_ticklabels(['Derrota', 'Vitória'])\n",
    "    ax.yaxis.set_ticklabels(['Derrota', 'Vitória']);\n",
    "    ax.set_xlabel('Labels reais')\n",
    "    ax.set_ylabel('Labels preditas')\n",
    "    ax.set_title('Matriz de confusão')\n",
    "    fig.show()"
   ]
  },
  {
   "cell_type": "markdown",
   "id": "2679d81e-dd3a-4a15-9f7e-65e8348dc6ce",
   "metadata": {},
   "source": [
    "#### **O que é curva ROC?**\n",
    "    ROC é uma curva de probabilidade e AUC representa o quão bem o modelo conseguiu separar as 2 classes, no nosso caso 'Vitória' e 'Derrota'. Quanto mais perto do canto superior esquerdo passa a cuva ROC no gráfico, melhor o desempenho dele, e, quanto maior o valor AUC, melhor o modelo é em prever corretamente essas classes."
   ]
  },
  {
   "cell_type": "code",
   "execution_count": 16,
   "id": "4425524f-429d-4b68-bda6-5a6f5e94c529",
   "metadata": {},
   "outputs": [
    {
     "name": "stdout",
     "output_type": "stream",
     "text": [
      "AUC score é 0.76 em dados de teste e 0.79 em dados de treinamento.\n"
     ]
    },
    {
     "data": {
      "image/png": "[encoded data removed]",
      "text/plain": [
       "<Figure size 500x400 with 1 Axes>"
      ]
     },
     "metadata": {},
     "output_type": "display_data"
    }
   ],
   "source": [
    "plot_auc(gb)"
   ]
  },
  {
   "cell_type": "markdown",
   "id": "c554d947-ce09-4a6c-925c-6aca77a8e681",
   "metadata": {},
   "source": [
    "Quanto mais para cima e longe do meio a curva ROC estiver, melhores serão os resultados obtidos. \n",
    "\n",
    "Nesse caso obtivemos bons resultados! Um valor de AUC equivalente a 0,76 em dados de teste.\n",
    "O modelo desempenhou melhor nos dados de treinamento, mas isso já era esperado visto que o modelo utiliza estes para entender os padrões nos dados."
   ]
  },
  {
   "cell_type": "markdown",
   "id": "ce708d9c-308e-407b-bde3-6c22edbc24e4",
   "metadata": {},
   "source": [
    "#### **O que é matriz de confusão?**\n",
    "    É uma visualização usada para analisar o desempenho de um classificador, contando as vezes em que o rótulo real e o rótulo previsto são iguais.\n",
    "    Nesse sentido, quanto maiores os valores na diagonal melhor, pois representa os casos que ambos rótulos reais e preditos foram definidos como \"Vitória\" ou ambos foram definidos como \"Derrota\"."
   ]
  },
  {
   "cell_type": "code",
   "execution_count": 9,
   "id": "3d17af8c-95fa-4b37-99c8-ff0174c05414",
   "metadata": {
    "execution": {
     "iopub.execute_input": "2022-12-08T19:31:57.738511Z",
     "iopub.status.busy": "2022-12-08T19:31:57.737778Z",
     "iopub.status.idle": "2022-12-08T19:31:58.141368Z",
     "shell.execute_reply": "2022-12-08T19:31:58.138759Z"
    }
   },
   "outputs": [
    {
     "data": {
      "image/png": "[encoded data removed]",
      "text/plain": [
       "<Figure size 500x400 with 2 Axes>"
      ]
     },
     "metadata": {},
     "output_type": "display_data"
    }
   ],
   "source": [
    "plot_conf_matrix(gb)"
   ]
  },
  {
   "cell_type": "markdown",
   "id": "1197f450-7498-404a-b646-cd4fd7cc93b0",
   "metadata": {},
   "source": [
    "Nesta matriz de confusão, podemos ver que os maiores valores estão na diagonal composta por VitóriaxVitória e DerrotaxDerrota, o que também é um bom sinal, significa que o nosso modelo está acertando na classificação."
   ]
  },
  {
   "cell_type": "markdown",
   "id": "fe364461-648a-40fe-8230-2f1c699e4bec",
   "metadata": {},
   "source": [
    "### 3. Exportar o dataset criado para o próximo passo"
   ]
  },
  {
   "cell_type": "code",
   "execution_count": 10,
   "id": "29c59527-a61b-4cb6-9d8e-a7d4f8972719",
   "metadata": {
    "execution": {
     "iopub.execute_input": "2022-12-08T19:31:58.226549Z",
     "iopub.status.busy": "2022-12-08T19:31:58.225178Z",
     "iopub.status.idle": "2022-12-08T19:31:58.293884Z",
     "shell.execute_reply": "2022-12-08T19:31:58.292532Z"
    }
   },
   "outputs": [],
   "source": [
    "dict_df = {'df':df, 'team_stats_raw':team_stats_raw, 'model':gb}\n",
    "dadosfera_utils.output(dict_df, name=\"dict_df\")"
   ]
  }
 ],
 "metadata": {
  "kernelspec": {
   "display_name": "Python 3",
   "language": "python",
   "name": "orchest-kernel-ba3699f2-50ab-4fda-a74b-b0de3183719c"
  },
  "language_info": {
   "codemirror_mode": {
    "name": "ipython",
    "version": 3
   },
   "file_extension": ".py",
   "mimetype": "text/x-python",
   "name": "python",
   "nbconvert_exporter": "python",
   "pygments_lexer": "ipython3",
   "version": "3.7.12"
  },
  "papermill": {
   "default_parameters": {},
   "duration": 130.639007,
   "end_time": "2022-11-19T16:10:39.296246",
   "environment_variables": {},
   "exception": null,
   "input_path": "__notebook__.ipynb",
   "output_path": "__notebook__.ipynb",
   "parameters": {},
   "start_time": "2022-11-19T16:08:28.657239",
   "version": "2.3.4"
  }
 },
 "nbformat": 4,
 "nbformat_minor": 5
}
